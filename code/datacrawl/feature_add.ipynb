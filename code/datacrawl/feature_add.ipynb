{
 "cells": [
  {
   "cell_type": "code",
   "execution_count": 184,
   "id": "f8ab53c8",
   "metadata": {},
   "outputs": [],
   "source": [
    "import requests\n",
    "from bs4 import BeautifulSoup\n",
    "import pandas as pd"
   ]
  },
  {
   "cell_type": "code",
   "execution_count": 185,
   "id": "9a8f6d8c",
   "metadata": {},
   "outputs": [],
   "source": [
    "anime_data = pd.read_csv(\"./../../data/anime.csv\")"
   ]
  },
  {
   "cell_type": "code",
   "execution_count": 186,
   "id": "415f9853",
   "metadata": {},
   "outputs": [],
   "source": [
    "character_data = pd.read_csv(\"./../../data/characters.csv\")"
   ]
  },
  {
   "cell_type": "markdown",
   "id": "888cabb9",
   "metadata": {},
   "source": [
    "# 크롤링 부분\n",
    "자신에게 맞는 블럭을 실행해주세요 실행시간은 최대 두시간 정도 소요될 것 같습니다."
   ]
  },
  {
   "cell_type": "markdown",
   "id": "a33c9f59",
   "metadata": {},
   "source": [
    "# 김정우"
   ]
  },
  {
   "cell_type": "code",
   "execution_count": null,
   "id": "296745f8",
   "metadata": {},
   "outputs": [],
   "source": [
    "#김정우 part1\n",
    "ani_dict = {}\n",
    "sample = character_data[:2000]\n",
    "for i in range(2000):\n",
    "    res = requests.get(sample.loc[i]['url'])\n",
    "    soup = BeautifulSoup(res.content, 'html.parser')\n",
    "    temp = soup.find(\"table\", class_ = \"pure-table striped noHeader\")\n",
    "    character_name = sample.loc[i]['Name']\n",
    "    if temp is not None:\n",
    "        if temp.findAll('tr') is not None:\n",
    "            for item in temp.findAll('tr'):\n",
    "                anime = item.find('a').text\n",
    "                if len(anime_data.loc[anime_data['Name'] == anime])>0:\n",
    "                    ani_id = anime_data.loc[anime_data['Name'] == anime].values[0][0]\n",
    "                    ani_dict[character_name] = ani_id\n",
    "                    break\n",
    "                ani_dict[character_name] = None\n",
    "    print('.', end='')\n",
    "\n",
    "char_ani_dfr = pd.DataFrame(list(ani_dict.items()),columns=['Name', 'MAL_ID'])\n",
    "merge_inner = pd.merge(sample, char_ani_dfr)\n",
    "merge_inner.to_csv('sample1.csv', index = False)"
   ]
  },
  {
   "cell_type": "code",
   "execution_count": null,
   "id": "da9969a7",
   "metadata": {},
   "outputs": [],
   "source": [
    "#김정우 part2\n",
    "ani_dict = {}\n",
    "sample = character_data[2000:4000]\n",
    "for i in range(2000,4000):\n",
    "    res = requests.get(sample.loc[i]['url'])\n",
    "    soup = BeautifulSoup(res.content, 'html.parser')\n",
    "    temp = soup.find(\"table\", class_ = \"pure-table striped noHeader\")\n",
    "    character_name = sample.loc[i]['Name']\n",
    "    if temp is not None:\n",
    "        if temp.findAll('tr') is not None:\n",
    "            for item in temp.findAll('tr'):\n",
    "                anime = item.find('a').text\n",
    "                if len(anime_data.loc[anime_data['Name'] == anime])>0:\n",
    "                    ani_id = anime_data.loc[anime_data['Name'] == anime].values[0][0]\n",
    "                    ani_dict[character_name] = ani_id\n",
    "                    break\n",
    "                ani_dict[character_name] = None\n",
    "    print('.', end='')\n",
    "\n",
    "char_ani_dfr = pd.DataFrame(list(ani_dict.items()),columns=['Name', 'MAL_ID'])\n",
    "merge_inner = pd.merge(sample, char_ani_dfr)\n",
    "merge_inner.to_csv('sample2.csv', index = False)"
   ]
  },
  {
   "cell_type": "code",
   "execution_count": null,
   "id": "59019b48",
   "metadata": {},
   "outputs": [],
   "source": [
    "#김정우 part3\n",
    "ani_dict = {}\n",
    "sample = character_data[4000:6000]\n",
    "for i in range(4000,6000):\n",
    "    res = requests.get(sample.loc[i]['url'])\n",
    "    soup = BeautifulSoup(res.content, 'html.parser')\n",
    "    temp = soup.find(\"table\", class_ = \"pure-table striped noHeader\")\n",
    "    character_name = sample.loc[i]['Name']\n",
    "    if temp is not None:\n",
    "        if temp.findAll('tr') is not None:\n",
    "            for item in temp.findAll('tr'):\n",
    "                anime = item.find('a').text\n",
    "                if len(anime_data.loc[anime_data['Name'] == anime])>0:\n",
    "                    ani_id = anime_data.loc[anime_data['Name'] == anime].values[0][0]\n",
    "                    ani_dict[character_name] = ani_id\n",
    "                    break\n",
    "                ani_dict[character_name] = None\n",
    "    print('.', end='')\n",
    "\n",
    "char_ani_dfr = pd.DataFrame(list(ani_dict.items()),columns=['Name', 'MAL_ID'])\n",
    "merge_inner = pd.merge(sample, char_ani_dfr)\n",
    "merge_inner.to_csv('sample3.csv', index = False)"
   ]
  },
  {
   "cell_type": "code",
   "execution_count": null,
   "id": "32c622db",
   "metadata": {},
   "outputs": [],
   "source": [
    "#김정우 part4\n",
    "ani_dict = {}\n",
    "sample = character_data[6000:8000]\n",
    "for i in range(6000,8000):\n",
    "    res = requests.get(sample.loc[i]['url'])\n",
    "    soup = BeautifulSoup(res.content, 'html.parser')\n",
    "    temp = soup.find(\"table\", class_ = \"pure-table striped noHeader\")\n",
    "    character_name = sample.loc[i]['Name']\n",
    "    if temp is not None:\n",
    "        if temp.findAll('tr') is not None:\n",
    "            for item in temp.findAll('tr'):\n",
    "                anime = item.find('a').text\n",
    "                if len(anime_data.loc[anime_data['Name'] == anime])>0:\n",
    "                    ani_id = anime_data.loc[anime_data['Name'] == anime].values[0][0]\n",
    "                    ani_dict[character_name] = ani_id\n",
    "                    break\n",
    "                ani_dict[character_name] = None\n",
    "    print('.', end='')\n",
    "\n",
    "char_ani_dfr = pd.DataFrame(list(ani_dict.items()),columns=['Name', 'MAL_ID'])\n",
    "merge_inner = pd.merge(sample, char_ani_dfr)\n",
    "merge_inner.to_csv('sample4.csv', index = False)"
   ]
  },
  {
   "cell_type": "markdown",
   "id": "55600c7b",
   "metadata": {},
   "source": [
    "# 김찬호"
   ]
  },
  {
   "cell_type": "code",
   "execution_count": null,
   "id": "4f2af0f0",
   "metadata": {},
   "outputs": [],
   "source": [
    "#김찬호 part1\n",
    "ani_dict = {}\n",
    "sample = character_data[8000:10000]\n",
    "for i in range(8000,10000):\n",
    "    res = requests.get(sample.loc[i]['url'])\n",
    "    soup = BeautifulSoup(res.content, 'html.parser')\n",
    "    temp = soup.find(\"table\", class_ = \"pure-table striped noHeader\")\n",
    "    character_name = sample.loc[i]['Name']\n",
    "    if temp is not None:\n",
    "        if temp.findAll('tr') is not None:\n",
    "            for item in temp.findAll('tr'):\n",
    "                anime = item.find('a').text\n",
    "                if len(anime_data.loc[anime_data['Name'] == anime])>0:\n",
    "                    ani_id = anime_data.loc[anime_data['Name'] == anime].values[0][0]\n",
    "                    ani_dict[character_name] = ani_id\n",
    "                    break\n",
    "                ani_dict[character_name] = None\n",
    "    print('.', end='')\n",
    "\n",
    "char_ani_dfr = pd.DataFrame(list(ani_dict.items()),columns=['Name', 'MAL_ID'])\n",
    "merge_inner = pd.merge(sample, char_ani_dfr)\n",
    "merge_inner.to_csv('sample5.csv', index = False)"
   ]
  },
  {
   "cell_type": "code",
   "execution_count": null,
   "id": "745a3948",
   "metadata": {},
   "outputs": [],
   "source": [
    "#김찬호 part2\n",
    "ani_dict = {}\n",
    "sample = character_data[10000:12000]\n",
    "for i in range(10000,12000):\n",
    "    res = requests.get(sample.loc[i]['url'])\n",
    "    soup = BeautifulSoup(res.content, 'html.parser')\n",
    "    temp = soup.find(\"table\", class_ = \"pure-table striped noHeader\")\n",
    "    character_name = sample.loc[i]['Name']\n",
    "    if temp is not None:\n",
    "        if temp.findAll('tr') is not None:\n",
    "            for item in temp.findAll('tr'):\n",
    "                anime = item.find('a').text\n",
    "                if len(anime_data.loc[anime_data['Name'] == anime])>0:\n",
    "                    ani_id = anime_data.loc[anime_data['Name'] == anime].values[0][0]\n",
    "                    ani_dict[character_name] = ani_id\n",
    "                    break\n",
    "                ani_dict[character_name] = None\n",
    "    print('.', end='')\n",
    "\n",
    "char_ani_dfr = pd.DataFrame(list(ani_dict.items()),columns=['Name', 'MAL_ID'])\n",
    "merge_inner = pd.merge(sample, char_ani_dfr)\n",
    "merge_inner.to_csv('sample6.csv', index = False)"
   ]
  },
  {
   "cell_type": "code",
   "execution_count": null,
   "id": "1d734da2",
   "metadata": {},
   "outputs": [],
   "source": [
    "#김찬호 part3\n",
    "ani_dict = {}\n",
    "sample = character_data[12000:14000]\n",
    "for i in range(12000,14000):\n",
    "    res = requests.get(sample.loc[i]['url'])\n",
    "    soup = BeautifulSoup(res.content, 'html.parser')\n",
    "    temp = soup.find(\"table\", class_ = \"pure-table striped noHeader\")\n",
    "    character_name = sample.loc[i]['Name']\n",
    "    if temp is not None:\n",
    "        if temp.findAll('tr') is not None:\n",
    "            for item in temp.findAll('tr'):\n",
    "                anime = item.find('a').text\n",
    "                if len(anime_data.loc[anime_data['Name'] == anime])>0:\n",
    "                    ani_id = anime_data.loc[anime_data['Name'] == anime].values[0][0]\n",
    "                    ani_dict[character_name] = ani_id\n",
    "                    break\n",
    "                ani_dict[character_name] = None\n",
    "    print('.', end='')\n",
    "\n",
    "char_ani_dfr = pd.DataFrame(list(ani_dict.items()),columns=['Name', 'MAL_ID'])\n",
    "merge_inner = pd.merge(sample, char_ani_dfr)\n",
    "merge_inner.to_csv('sample7.csv', index = False)"
   ]
  },
  {
   "cell_type": "code",
   "execution_count": null,
   "id": "bc42a6dd",
   "metadata": {},
   "outputs": [],
   "source": [
    "#김찬호 part4\n",
    "ani_dict = {}\n",
    "sample = character_data[14000:16000]\n",
    "for i in range(14000,16000):\n",
    "    res = requests.get(sample.loc[i]['url'])\n",
    "    soup = BeautifulSoup(res.content, 'html.parser')\n",
    "    temp = soup.find(\"table\", class_ = \"pure-table striped noHeader\")\n",
    "    character_name = sample.loc[i]['Name']\n",
    "    if temp is not None:\n",
    "        if temp.findAll('tr') is not None:\n",
    "            for item in temp.findAll('tr'):\n",
    "                anime = item.find('a').text\n",
    "                if len(anime_data.loc[anime_data['Name'] == anime])>0:\n",
    "                    ani_id = anime_data.loc[anime_data['Name'] == anime].values[0][0]\n",
    "                    ani_dict[character_name] = ani_id\n",
    "                    break\n",
    "                ani_dict[character_name] = None\n",
    "    print('.', end='')\n",
    "\n",
    "char_ani_dfr = pd.DataFrame(list(ani_dict.items()),columns=['Name', 'MAL_ID'])\n",
    "merge_inner = pd.merge(sample, char_ani_dfr)\n",
    "merge_inner.to_csv('sample8.csv', index = False)"
   ]
  },
  {
   "cell_type": "markdown",
   "id": "d8c184cc",
   "metadata": {},
   "source": [
    "# 박정현"
   ]
  },
  {
   "cell_type": "code",
   "execution_count": null,
   "id": "0420cead",
   "metadata": {},
   "outputs": [],
   "source": [
    "#박정현 part1\n",
    "ani_dict = {}\n",
    "sample = character_data[16000:18000]\n",
    "for i in range(16000,18000):\n",
    "    res = requests.get(sample.loc[i]['url'])\n",
    "    soup = BeautifulSoup(res.content, 'html.parser')\n",
    "    temp = soup.find(\"table\", class_ = \"pure-table striped noHeader\")\n",
    "    character_name = sample.loc[i]['Name']\n",
    "    if temp is not None:\n",
    "        if temp.findAll('tr') is not None:\n",
    "            for item in temp.findAll('tr'):\n",
    "                anime = item.find('a').text\n",
    "                if len(anime_data.loc[anime_data['Name'] == anime])>0:\n",
    "                    ani_id = anime_data.loc[anime_data['Name'] == anime].values[0][0]\n",
    "                    ani_dict[character_name] = ani_id\n",
    "                    break\n",
    "                ani_dict[character_name] = None\n",
    "    print('.', end='')\n",
    "\n",
    "char_ani_dfr = pd.DataFrame(list(ani_dict.items()),columns=['Name', 'MAL_ID'])\n",
    "merge_inner = pd.merge(sample, char_ani_dfr)\n",
    "merge_inner.to_csv('sample9.csv', index = False)"
   ]
  },
  {
   "cell_type": "code",
   "execution_count": null,
   "id": "ffc6afd9",
   "metadata": {},
   "outputs": [],
   "source": [
    "#박정현 part2\n",
    "ani_dict = {}\n",
    "sample = character_data[18000:20000]\n",
    "for i in range(18000,20000):\n",
    "    res = requests.get(sample.loc[i]['url'])\n",
    "    soup = BeautifulSoup(res.content, 'html.parser')\n",
    "    temp = soup.find(\"table\", class_ = \"pure-table striped noHeader\")\n",
    "    character_name = sample.loc[i]['Name']\n",
    "    if temp is not None:\n",
    "        if temp.findAll('tr') is not None:\n",
    "            for item in temp.findAll('tr'):\n",
    "                anime = item.find('a').text\n",
    "                if len(anime_data.loc[anime_data['Name'] == anime])>0:\n",
    "                    ani_id = anime_data.loc[anime_data['Name'] == anime].values[0][0]\n",
    "                    ani_dict[character_name] = ani_id\n",
    "                    break\n",
    "                ani_dict[character_name] = None\n",
    "    print('.', end='')\n",
    "\n",
    "char_ani_dfr = pd.DataFrame(list(ani_dict.items()),columns=['Name', 'MAL_ID'])\n",
    "merge_inner = pd.merge(sample, char_ani_dfr)\n",
    "merge_inner.to_csv('sample10.csv', index = False)"
   ]
  },
  {
   "cell_type": "code",
   "execution_count": null,
   "id": "25242c0b",
   "metadata": {},
   "outputs": [],
   "source": [
    "#박정현 part3\n",
    "ani_dict = {}\n",
    "sample = character_data[20000:22000]\n",
    "for i in range(20000,22000):\n",
    "    res = requests.get(sample.loc[i]['url'])\n",
    "    soup = BeautifulSoup(res.content, 'html.parser')\n",
    "    temp = soup.find(\"table\", class_ = \"pure-table striped noHeader\")\n",
    "    character_name = sample.loc[i]['Name']\n",
    "    if temp is not None:\n",
    "        if temp.findAll('tr') is not None:\n",
    "            for item in temp.findAll('tr'):\n",
    "                anime = item.find('a').text\n",
    "                if len(anime_data.loc[anime_data['Name'] == anime])>0:\n",
    "                    ani_id = anime_data.loc[anime_data['Name'] == anime].values[0][0]\n",
    "                    ani_dict[character_name] = ani_id\n",
    "                    break\n",
    "                ani_dict[character_name] = None\n",
    "    print('.', end='')\n",
    "\n",
    "char_ani_dfr = pd.DataFrame(list(ani_dict.items()),columns=['Name', 'MAL_ID'])\n",
    "merge_inner = pd.merge(sample, char_ani_dfr)\n",
    "merge_inner.to_csv('sample11.csv', index = False)"
   ]
  },
  {
   "cell_type": "code",
   "execution_count": null,
   "id": "a8fb235b",
   "metadata": {},
   "outputs": [],
   "source": [
    "#박정현 part4\n",
    "ani_dict = {}\n",
    "sample = character_data[22000:24000]\n",
    "for i in range(22000,24000):\n",
    "    res = requests.get(sample.loc[i]['url'])\n",
    "    soup = BeautifulSoup(res.content, 'html.parser')\n",
    "    temp = soup.find(\"table\", class_ = \"pure-table striped noHeader\")\n",
    "    character_name = sample.loc[i]['Name']\n",
    "    if temp is not None:\n",
    "        if temp.findAll('tr') is not None:\n",
    "            for item in temp.findAll('tr'):\n",
    "                anime = item.find('a').text\n",
    "                if len(anime_data.loc[anime_data['Name'] == anime])>0:\n",
    "                    ani_id = anime_data.loc[anime_data['Name'] == anime].values[0][0]\n",
    "                    ani_dict[character_name] = ani_id\n",
    "                    break\n",
    "                ani_dict[character_name] = None\n",
    "    print('.', end='')\n",
    "\n",
    "char_ani_dfr = pd.DataFrame(list(ani_dict.items()),columns=['Name', 'MAL_ID'])\n",
    "merge_inner = pd.merge(sample, char_ani_dfr)\n",
    "merge_inner.to_csv('sample12.csv', index = False)"
   ]
  },
  {
   "cell_type": "markdown",
   "id": "ed27a45c",
   "metadata": {},
   "source": [
    "# 김병준"
   ]
  },
  {
   "cell_type": "code",
   "execution_count": 210,
   "id": "76a3ffe6",
   "metadata": {},
   "outputs": [
    {
     "name": "stdout",
     "output_type": "stream",
     "text": [
      "................................................................................................................................................................................................................................................................................................................................................................................................................................................................................................................................................................................................................................................................................................................................................................................................................................................................................................................................................................................................................................................................................................................................................................................................................................................................................................................................................................................................................................................................................................................................................................................................................................................................................................................................................................................................................................................................................................................................................................................................................................................................................"
     ]
    }
   ],
   "source": [
    "#김병준 part1\n",
    "ani_dict = {}\n",
    "sample = character_data[24000:26000]\n",
    "for i in range(24000,26000):\n",
    "    res = requests.get(sample.loc[i]['url'])\n",
    "    soup = BeautifulSoup(res.content, 'html.parser')\n",
    "    temp = soup.find(\"table\", class_ = \"pure-table striped noHeader\")\n",
    "    character_name = sample.loc[i]['Name']\n",
    "    if temp is not None:\n",
    "        if temp.findAll('tr') is not None:\n",
    "            for item in temp.findAll('tr'):\n",
    "                anime = item.find('a').text\n",
    "                if len(anime_data.loc[anime_data['Name'] == anime])>0:\n",
    "                    ani_id = anime_data.loc[anime_data['Name'] == anime].values[0][0]\n",
    "                    ani_dict[character_name] = ani_id\n",
    "                    break\n",
    "                ani_dict[character_name] = None\n",
    "    print('.', end='')\n",
    "\n",
    "char_ani_dfr = pd.DataFrame(list(ani_dict.items()),columns=['Name', 'MAL_ID'])\n",
    "merge_inner = pd.merge(sample, char_ani_dfr)\n",
    "merge_inner.to_csv('sample13.csv', index = False)"
   ]
  },
  {
   "cell_type": "code",
   "execution_count": null,
   "id": "9f344208",
   "metadata": {},
   "outputs": [],
   "source": []
  }
 ],
 "metadata": {
  "kernelspec": {
   "display_name": "tf_py3.9",
   "language": "python",
   "name": "tf_py3.9"
  },
  "language_info": {
   "codemirror_mode": {
    "name": "ipython",
    "version": 3
   },
   "file_extension": ".py",
   "mimetype": "text/x-python",
   "name": "python",
   "nbconvert_exporter": "python",
   "pygments_lexer": "ipython3",
   "version": "3.9.10"
  }
 },
 "nbformat": 4,
 "nbformat_minor": 5
}
