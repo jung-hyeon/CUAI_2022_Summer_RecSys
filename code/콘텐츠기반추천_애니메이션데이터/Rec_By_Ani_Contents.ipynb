{
 "cells": [
  {
   "cell_type": "code",
   "execution_count": 1,
   "id": "53f6d3c6",
   "metadata": {},
   "outputs": [],
   "source": [
    "import pandas as pd\n",
    "import numpy as np"
   ]
  },
  {
   "cell_type": "code",
   "execution_count": 2,
   "id": "280f5d1d",
   "metadata": {},
   "outputs": [],
   "source": [
    "from sklearn.metrics.pairwise import cosine_similarity"
   ]
  },
  {
   "cell_type": "code",
   "execution_count": 4,
   "id": "f0e2d599",
   "metadata": {},
   "outputs": [],
   "source": [
    "anime_data = pd.read_csv(\"./../../data/fixed/anime_full.csv\")"
   ]
  },
  {
   "cell_type": "code",
   "execution_count": 6,
   "id": "d62aebf1",
   "metadata": {},
   "outputs": [],
   "source": [
    "characters = pd.read_csv('./../../data/fixed/character_full.csv')"
   ]
  },
  {
   "cell_type": "code",
   "execution_count": 9,
   "id": "70fb97da",
   "metadata": {},
   "outputs": [],
   "source": [
    "anime_data = anime_data.drop('synopsis', axis = 1)"
   ]
  },
  {
   "cell_type": "markdown",
   "id": "e41f4bf6",
   "metadata": {},
   "source": [
    "# 장르'만' 가지고 유사도 측정"
   ]
  },
  {
   "cell_type": "code",
   "execution_count": 26,
   "id": "0a56558b",
   "metadata": {},
   "outputs": [],
   "source": [
    "genre_set = set()"
   ]
  },
  {
   "cell_type": "code",
   "execution_count": 27,
   "id": "58e8ee34",
   "metadata": {},
   "outputs": [],
   "source": [
    "for idx in anime_data.index:\n",
    "    genres = anime_data.loc[idx, 'Genres'].split(',')\n",
    "    for genre in genres:\n",
    "        genre_set.add(genre)"
   ]
  },
  {
   "cell_type": "code",
   "execution_count": 28,
   "id": "7fff43a9",
   "metadata": {},
   "outputs": [],
   "source": [
    "genre_list = list(genre_set)"
   ]
  },
  {
   "cell_type": "code",
   "execution_count": 29,
   "id": "aaa03641",
   "metadata": {},
   "outputs": [],
   "source": [
    "score = np.zeros((anime_data['MAL_ID'].nunique(), len(genre_set)))"
   ]
  },
  {
   "cell_type": "code",
   "execution_count": 30,
   "id": "07dca351",
   "metadata": {},
   "outputs": [],
   "source": [
    "for idx in anime_data.index:\n",
    "    temp = anime_data.loc[idx, 'Genres'].split(',')\n",
    "    for i in range(len(genre_list)):\n",
    "        if genre_list[i] in temp:\n",
    "            score[idx,i] = 1.0"
   ]
  },
  {
   "cell_type": "code",
   "execution_count": 46,
   "id": "a20ab15b",
   "metadata": {},
   "outputs": [],
   "source": [
    "cosine_similar = cosine_similarity(score, score)\n",
    "for i in range(len(cosine_similar)):\n",
    "    cosine_similar[i,i] = 1.0"
   ]
  },
  {
   "cell_type": "code",
   "execution_count": 47,
   "id": "d7e89691",
   "metadata": {},
   "outputs": [],
   "source": [
    "cosine_similar_df = pd.DataFrame(cosine_similar)"
   ]
  },
  {
   "cell_type": "code",
   "execution_count": 52,
   "id": "138c771d",
   "metadata": {},
   "outputs": [],
   "source": [
    "def ani_rec_genre(df, cosine_similar_df, ani_name, top_n = 20):\n",
    "    ani_idx = anime_data[anime_data['Name'] == ani_name].index.values\n",
    "    sorted_df = cosine_similar_df[ani_idx]\n",
    "    sorted_df = sorted_df.sort_values(list(ani_idx), ascending = False)\n",
    "    top_n_idx = sorted_df.index[:top_n+1]\n",
    "    top_n_idx_without_input = list(set(top_n_idx) - set(ani_idx))\n",
    "    print(anime_data.loc[top_n_idx_without_input][['Name', 'MAL_ID']])\n",
    "    return list(anime_data.loc[top_n_idx_without_input]['MAL_ID'])"
   ]
  },
  {
   "cell_type": "code",
   "execution_count": 53,
   "id": "1068fc02",
   "metadata": {},
   "outputs": [
    {
     "ename": "NameError",
     "evalue": "name 'cosine_similar_df' is not defined",
     "output_type": "error",
     "traceback": [
      "\u001b[0;31m---------------------------------------------------------------------------\u001b[0m",
      "\u001b[0;31mNameError\u001b[0m                                 Traceback (most recent call last)",
      "Input \u001b[0;32mIn [53]\u001b[0m, in \u001b[0;36m<module>\u001b[0;34m\u001b[0m\n\u001b[0;32m----> 1\u001b[0m ani_rec_genre(anime_data, \u001b[43mcosine_similar_df\u001b[49m, \u001b[38;5;124m'\u001b[39m\u001b[38;5;124mNaruto\u001b[39m\u001b[38;5;124m'\u001b[39m)\n",
      "\u001b[0;31mNameError\u001b[0m: name 'cosine_similar_df' is not defined"
     ]
    }
   ],
   "source": [
    "ani_rec_genre(anime_data, cosine_similar_df, 'Naruto')"
   ]
  },
  {
   "cell_type": "markdown",
   "id": "b756bff7",
   "metadata": {},
   "source": [
    "# 장르, Type, Source, Year 합산\n",
    "year은 nan이 많아서 생략"
   ]
  },
  {
   "cell_type": "code",
   "execution_count": 17,
   "id": "5ce0bece",
   "metadata": {},
   "outputs": [
    {
     "data": {
      "text/plain": [
       "MAL_ID                                                   20\n",
       "Name                                                 Naruto\n",
       "Genres    Action,Adventure,Comedy,SuperPower,MartialArts...\n",
       "Type                                                     TV\n",
       "Source                                                Manga\n",
       "Year                                                 2000.0\n",
       "Name: 10, dtype: object"
      ]
     },
     "execution_count": 17,
     "metadata": {},
     "output_type": "execute_result"
    }
   ],
   "source": [
    "anime_data.loc[10]"
   ]
  },
  {
   "cell_type": "code",
   "execution_count": 18,
   "id": "e2cdebc0",
   "metadata": {},
   "outputs": [],
   "source": [
    "type_set = set()\n",
    "for idx in anime_data.index:\n",
    "    type_set.add(anime_data.loc[idx, 'Type'])\n",
    "type_list = list(type_set)\n",
    "\n",
    "source_set = set()\n",
    "for idx in anime_data.index:\n",
    "    source_set.add(anime_data.loc[idx, 'Source'])\n",
    "source_list = list(source_set)"
   ]
  },
  {
   "cell_type": "code",
   "execution_count": 19,
   "id": "c8a9fbba",
   "metadata": {},
   "outputs": [],
   "source": [
    "score_type = np.zeros((anime_data['MAL_ID'].nunique(), len(type_set)))\n",
    "score_source = np.zeros((anime_data['MAL_ID'].nunique(), len(source_set)))"
   ]
  },
  {
   "cell_type": "code",
   "execution_count": 20,
   "id": "e9155d0e",
   "metadata": {},
   "outputs": [],
   "source": [
    "for idx in anime_data.index:\n",
    "    temp = anime_data.at[idx,'Type']\n",
    "    for i in range(len(type_list)):\n",
    "        if type_list[i] == temp:\n",
    "            score_type[idx,i] = 1.0"
   ]
  },
  {
   "cell_type": "code",
   "execution_count": 21,
   "id": "b8d4b8a7",
   "metadata": {},
   "outputs": [],
   "source": [
    "for idx in anime_data.index:\n",
    "    temp = anime_data.at[idx,'Source']\n",
    "    for i in range(len(source_list)):\n",
    "        if source_list[i] == temp:\n",
    "            score_source[idx,i] = 1.0"
   ]
  },
  {
   "cell_type": "code",
   "execution_count": 22,
   "id": "37bbc121",
   "metadata": {},
   "outputs": [
    {
     "data": {
      "text/plain": [
       "(12181, 15)"
      ]
     },
     "execution_count": 22,
     "metadata": {},
     "output_type": "execute_result"
    }
   ],
   "source": [
    "score_source.shape"
   ]
  },
  {
   "cell_type": "code",
   "execution_count": 31,
   "id": "3947c709",
   "metadata": {},
   "outputs": [],
   "source": [
    "score_full = np.hstack([score, score_type, score_source])"
   ]
  },
  {
   "cell_type": "code",
   "execution_count": 32,
   "id": "77a894d5",
   "metadata": {},
   "outputs": [
    {
     "data": {
      "text/plain": [
       "(12181, 63)"
      ]
     },
     "execution_count": 32,
     "metadata": {},
     "output_type": "execute_result"
    }
   ],
   "source": [
    "score_full.shape"
   ]
  },
  {
   "cell_type": "code",
   "execution_count": 33,
   "id": "3ef54800",
   "metadata": {},
   "outputs": [],
   "source": [
    "cosine_similar_full = cosine_similarity(score_full, score_full)\n",
    "for i in range(len(cosine_similar_full)):\n",
    "    cosine_similar_full[i,i] = 1.0"
   ]
  },
  {
   "cell_type": "code",
   "execution_count": 34,
   "id": "6fd8d927",
   "metadata": {},
   "outputs": [],
   "source": [
    "cosine_similar_full_df = pd.DataFrame(cosine_similar_full)"
   ]
  },
  {
   "cell_type": "code",
   "execution_count": 50,
   "id": "4ea3cebc",
   "metadata": {},
   "outputs": [
    {
     "name": "stdout",
     "output_type": "stream",
     "text": [
      "                                                    Name  MAL_ID\n",
      "4352                                          Medaka Box   11761\n",
      "131                                          Shaman King     154\n",
      "8010                     Boruto: Naruto Next Generations   34566\n",
      "3212                Dragon Ball Z: Atsumare! Gokuu World    6714\n",
      "203                                       Rekka no Honoo     238\n",
      "5518                              Dragon Ball Kai (2014)   22777\n",
      "8268                     Boruto: Jump Festa 2016 Special   35072\n",
      "1274                              Katekyo Hitman Reborn!    1604\n",
      "1366                                  Naruto: Shippuuden    1735\n",
      "1178                                          D.Gray-man    1482\n",
      "3035                                     Dragon Ball Kai    6033\n",
      "233                                               Bleach     269\n",
      "684                                        Dragon Ball Z     813\n",
      "428                                      Ueki no Housoku     479\n",
      "1329                                        Duel Masters    1685\n",
      "11700                                 Shaman King (2021)   42205\n",
      "824    Dragon Ball GT: Gokuu Gaiden! Yuuki no Akashi ...     987\n",
      "6457                                   Dragon Ball Super   30694\n",
      "762    Dragon Ball Z Movie 11: Super Senshi Gekiha!! ...     904\n",
      "189                                          Dragon Ball     223\n"
     ]
    }
   ],
   "source": [
    "result = ani_rec_genre(anime_data, cosine_similar_full_df, 'Naruto')"
   ]
  },
  {
   "cell_type": "code",
   "execution_count": 51,
   "id": "6d2ad81e",
   "metadata": {},
   "outputs": [
    {
     "data": {
      "text/plain": [
       "[11761,\n",
       " 154,\n",
       " 34566,\n",
       " 6714,\n",
       " 238,\n",
       " 22777,\n",
       " 35072,\n",
       " 1604,\n",
       " 1735,\n",
       " 1482,\n",
       " 6033,\n",
       " 269,\n",
       " 813,\n",
       " 479,\n",
       " 1685,\n",
       " 42205,\n",
       " 987,\n",
       " 30694,\n",
       " 904,\n",
       " 223]"
      ]
     },
     "execution_count": 51,
     "metadata": {},
     "output_type": "execute_result"
    }
   ],
   "source": [
    "result"
   ]
  },
  {
   "cell_type": "code",
   "execution_count": null,
   "id": "acc5435b",
   "metadata": {},
   "outputs": [],
   "source": []
  }
 ],
 "metadata": {
  "kernelspec": {
   "display_name": "tf_py3.9",
   "language": "python",
   "name": "tf_py3.9"
  },
  "language_info": {
   "codemirror_mode": {
    "name": "ipython",
    "version": 3
   },
   "file_extension": ".py",
   "mimetype": "text/x-python",
   "name": "python",
   "nbconvert_exporter": "python",
   "pygments_lexer": "ipython3",
   "version": "3.9.10"
  }
 },
 "nbformat": 4,
 "nbformat_minor": 5
}
