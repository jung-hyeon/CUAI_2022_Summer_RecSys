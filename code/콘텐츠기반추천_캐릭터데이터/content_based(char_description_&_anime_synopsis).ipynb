{
  "nbformat": 4,
  "nbformat_minor": 0,
  "metadata": {
    "colab": {
      "name": "content_based(char_description & anime_synopsis).ipynb",
      "provenance": [],
      "collapsed_sections": []
    },
    "kernelspec": {
      "name": "python3",
      "display_name": "Python 3"
    },
    "language_info": {
      "name": "python"
    },
    "accelerator": "GPU",
    "gpuClass": "standard"
  },
  "cells": [
    {
      "cell_type": "markdown",
      "source": [
        "# Anime character description \n",
        "\n",
        "- 애니메이션 캐릭터 dataset에서 description 추출\n",
        "- Description 문자열 벡터화\n",
        "- 최애캐와 다른 모든 캐릭터 description 사이 코사인 유사도 추출\n",
        "- 유사도 기반 top 20 characters 추천"
      ],
      "metadata": {
        "id": "bZhb4sjPPYvW"
      }
    },
    {
      "cell_type": "code",
      "execution_count": 1,
      "metadata": {
        "id": "xhTvpmBKLE4x"
      },
      "outputs": [],
      "source": [
        "import numpy as np\n",
        "import pandas as pd\n",
        "from sklearn.feature_extraction.text import TfidfVectorizer\n",
        "from sklearn.metrics.pairwise import linear_kernel"
      ]
    },
    {
      "cell_type": "code",
      "source": [
        "characters_data = pd.read_csv('/content/drive/MyDrive/CUAI_summer/character_full.csv')"
      ],
      "metadata": {
        "id": "fZVxqPJsMev9"
      },
      "execution_count": 2,
      "outputs": []
    },
    {
      "cell_type": "code",
      "source": [
        "characters_data.head(3)"
      ],
      "metadata": {
        "colab": {
          "base_uri": "https://localhost:8080/",
          "height": 140
        },
        "id": "FKAz5JymMlMu",
        "outputId": "c4b59b50-85a1-4443-e112-42ffedf6b5fe"
      },
      "execution_count": 3,
      "outputs": [
        {
          "output_type": "execute_result",
          "data": {
            "text/plain": [
              "    ID        CharName Gender HairColor  \\\n",
              "0    0               L   Male     Black   \n",
              "1   98  Kakashi HATAKE   Male      Grey   \n",
              "2  348    Light YAGAMI   Male     Brown   \n",
              "\n",
              "                                                Tags  \\\n",
              "0  Analytical,Barefoot,Detectives,EyeBags,SweetTooth   \n",
              "1  Adults,Anti-GravityHair,Beastmasters,ExoticEye...   \n",
              "2  Analytical,BigEgo,Charismatic,GodComplex,Manip...   \n",
              "\n",
              "                                         Description  \\\n",
              "0  Secretive, meticulous and cunning, L's desire ...   \n",
              "1  Kakashi is a jounin ninja from Konoha who is k...   \n",
              "2  Armed with the power of Ryuk's Death Note, Lig...   \n",
              "\n",
              "                                                 url   MAL_ID  \n",
              "0  https://www.anime-planet.com/characters/l-deat...   1535.0  \n",
              "1  https://www.anime-planet.com/characters/kakash...  34566.0  \n",
              "2  https://www.anime-planet.com/characters/light-...   1535.0  "
            ],
            "text/html": [
              "\n",
              "  <div id=\"df-dbf2fe62-1183-48cf-ab38-bfa07ef6b2a6\">\n",
              "    <div class=\"colab-df-container\">\n",
              "      <div>\n",
              "<style scoped>\n",
              "    .dataframe tbody tr th:only-of-type {\n",
              "        vertical-align: middle;\n",
              "    }\n",
              "\n",
              "    .dataframe tbody tr th {\n",
              "        vertical-align: top;\n",
              "    }\n",
              "\n",
              "    .dataframe thead th {\n",
              "        text-align: right;\n",
              "    }\n",
              "</style>\n",
              "<table border=\"1\" class=\"dataframe\">\n",
              "  <thead>\n",
              "    <tr style=\"text-align: right;\">\n",
              "      <th></th>\n",
              "      <th>ID</th>\n",
              "      <th>CharName</th>\n",
              "      <th>Gender</th>\n",
              "      <th>HairColor</th>\n",
              "      <th>Tags</th>\n",
              "      <th>Description</th>\n",
              "      <th>url</th>\n",
              "      <th>MAL_ID</th>\n",
              "    </tr>\n",
              "  </thead>\n",
              "  <tbody>\n",
              "    <tr>\n",
              "      <th>0</th>\n",
              "      <td>0</td>\n",
              "      <td>L</td>\n",
              "      <td>Male</td>\n",
              "      <td>Black</td>\n",
              "      <td>Analytical,Barefoot,Detectives,EyeBags,SweetTooth</td>\n",
              "      <td>Secretive, meticulous and cunning, L's desire ...</td>\n",
              "      <td>https://www.anime-planet.com/characters/l-deat...</td>\n",
              "      <td>1535.0</td>\n",
              "    </tr>\n",
              "    <tr>\n",
              "      <th>1</th>\n",
              "      <td>98</td>\n",
              "      <td>Kakashi HATAKE</td>\n",
              "      <td>Male</td>\n",
              "      <td>Grey</td>\n",
              "      <td>Adults,Anti-GravityHair,Beastmasters,ExoticEye...</td>\n",
              "      <td>Kakashi is a jounin ninja from Konoha who is k...</td>\n",
              "      <td>https://www.anime-planet.com/characters/kakash...</td>\n",
              "      <td>34566.0</td>\n",
              "    </tr>\n",
              "    <tr>\n",
              "      <th>2</th>\n",
              "      <td>348</td>\n",
              "      <td>Light YAGAMI</td>\n",
              "      <td>Male</td>\n",
              "      <td>Brown</td>\n",
              "      <td>Analytical,BigEgo,Charismatic,GodComplex,Manip...</td>\n",
              "      <td>Armed with the power of Ryuk's Death Note, Lig...</td>\n",
              "      <td>https://www.anime-planet.com/characters/light-...</td>\n",
              "      <td>1535.0</td>\n",
              "    </tr>\n",
              "  </tbody>\n",
              "</table>\n",
              "</div>\n",
              "      <button class=\"colab-df-convert\" onclick=\"convertToInteractive('df-dbf2fe62-1183-48cf-ab38-bfa07ef6b2a6')\"\n",
              "              title=\"Convert this dataframe to an interactive table.\"\n",
              "              style=\"display:none;\">\n",
              "        \n",
              "  <svg xmlns=\"http://www.w3.org/2000/svg\" height=\"24px\"viewBox=\"0 0 24 24\"\n",
              "       width=\"24px\">\n",
              "    <path d=\"M0 0h24v24H0V0z\" fill=\"none\"/>\n",
              "    <path d=\"M18.56 5.44l.94 2.06.94-2.06 2.06-.94-2.06-.94-.94-2.06-.94 2.06-2.06.94zm-11 1L8.5 8.5l.94-2.06 2.06-.94-2.06-.94L8.5 2.5l-.94 2.06-2.06.94zm10 10l.94 2.06.94-2.06 2.06-.94-2.06-.94-.94-2.06-.94 2.06-2.06.94z\"/><path d=\"M17.41 7.96l-1.37-1.37c-.4-.4-.92-.59-1.43-.59-.52 0-1.04.2-1.43.59L10.3 9.45l-7.72 7.72c-.78.78-.78 2.05 0 2.83L4 21.41c.39.39.9.59 1.41.59.51 0 1.02-.2 1.41-.59l7.78-7.78 2.81-2.81c.8-.78.8-2.07 0-2.86zM5.41 20L4 18.59l7.72-7.72 1.47 1.35L5.41 20z\"/>\n",
              "  </svg>\n",
              "      </button>\n",
              "      \n",
              "  <style>\n",
              "    .colab-df-container {\n",
              "      display:flex;\n",
              "      flex-wrap:wrap;\n",
              "      gap: 12px;\n",
              "    }\n",
              "\n",
              "    .colab-df-convert {\n",
              "      background-color: #E8F0FE;\n",
              "      border: none;\n",
              "      border-radius: 50%;\n",
              "      cursor: pointer;\n",
              "      display: none;\n",
              "      fill: #1967D2;\n",
              "      height: 32px;\n",
              "      padding: 0 0 0 0;\n",
              "      width: 32px;\n",
              "    }\n",
              "\n",
              "    .colab-df-convert:hover {\n",
              "      background-color: #E2EBFA;\n",
              "      box-shadow: 0px 1px 2px rgba(60, 64, 67, 0.3), 0px 1px 3px 1px rgba(60, 64, 67, 0.15);\n",
              "      fill: #174EA6;\n",
              "    }\n",
              "\n",
              "    [theme=dark] .colab-df-convert {\n",
              "      background-color: #3B4455;\n",
              "      fill: #D2E3FC;\n",
              "    }\n",
              "\n",
              "    [theme=dark] .colab-df-convert:hover {\n",
              "      background-color: #434B5C;\n",
              "      box-shadow: 0px 1px 3px 1px rgba(0, 0, 0, 0.15);\n",
              "      filter: drop-shadow(0px 1px 2px rgba(0, 0, 0, 0.3));\n",
              "      fill: #FFFFFF;\n",
              "    }\n",
              "  </style>\n",
              "\n",
              "      <script>\n",
              "        const buttonEl =\n",
              "          document.querySelector('#df-dbf2fe62-1183-48cf-ab38-bfa07ef6b2a6 button.colab-df-convert');\n",
              "        buttonEl.style.display =\n",
              "          google.colab.kernel.accessAllowed ? 'block' : 'none';\n",
              "\n",
              "        async function convertToInteractive(key) {\n",
              "          const element = document.querySelector('#df-dbf2fe62-1183-48cf-ab38-bfa07ef6b2a6');\n",
              "          const dataTable =\n",
              "            await google.colab.kernel.invokeFunction('convertToInteractive',\n",
              "                                                     [key], {});\n",
              "          if (!dataTable) return;\n",
              "\n",
              "          const docLinkHtml = 'Like what you see? Visit the ' +\n",
              "            '<a target=\"_blank\" href=https://colab.research.google.com/notebooks/data_table.ipynb>data table notebook</a>'\n",
              "            + ' to learn more about interactive tables.';\n",
              "          element.innerHTML = '';\n",
              "          dataTable['output_type'] = 'display_data';\n",
              "          await google.colab.output.renderOutput(dataTable, element);\n",
              "          const docLink = document.createElement('div');\n",
              "          docLink.innerHTML = docLinkHtml;\n",
              "          element.appendChild(docLink);\n",
              "        }\n",
              "      </script>\n",
              "    </div>\n",
              "  </div>\n",
              "  "
            ]
          },
          "metadata": {},
          "execution_count": 3
        }
      ]
    },
    {
      "cell_type": "code",
      "source": [
        "characters_data['Description'].head(3)"
      ],
      "metadata": {
        "colab": {
          "base_uri": "https://localhost:8080/"
        },
        "id": "xy-4CcbxMsT9",
        "outputId": "5d092dcd-c69c-4ddb-a982-7a492842b0a1"
      },
      "execution_count": 4,
      "outputs": [
        {
          "output_type": "execute_result",
          "data": {
            "text/plain": [
              "0    Secretive, meticulous and cunning, L's desire ...\n",
              "1    Kakashi is a jounin ninja from Konoha who is k...\n",
              "2    Armed with the power of Ryuk's Death Note, Lig...\n",
              "Name: Description, dtype: object"
            ]
          },
          "metadata": {},
          "execution_count": 4
        }
      ]
    },
    {
      "cell_type": "code",
      "source": [
        "tfidf = TfidfVectorizer(stop_words='english', sublinear_tf = True)    # 객체 지정. 'the', 'a' 같은 stop words 제거, smoothing\n",
        "\n",
        "\n",
        "tfidf_matrix = tfidf.fit_transform(characters_data['Description'])    # 구축\n",
        "\n",
        "tfidf_matrix.shape"
      ],
      "metadata": {
        "colab": {
          "base_uri": "https://localhost:8080/"
        },
        "id": "mD_5-W1zMzhq",
        "outputId": "0ad1be58-6dd8-48a3-b005-79030c3f29ca"
      },
      "execution_count": 5,
      "outputs": [
        {
          "output_type": "execute_result",
          "data": {
            "text/plain": [
              "(13888, 9396)"
            ]
          },
          "metadata": {},
          "execution_count": 5
        }
      ]
    },
    {
      "cell_type": "code",
      "source": [
        "from sklearn.metrics.pairwise import linear_kernel\n",
        "\n",
        "cosine_sim = linear_kernel(tfidf_matrix, tfidf_matrix)"
      ],
      "metadata": {
        "id": "qrgP8SOBNBDT"
      },
      "execution_count": 6,
      "outputs": []
    },
    {
      "cell_type": "code",
      "source": [
        "indices = pd.Series(characters_data.index, index = characters_data['CharName']).drop_duplicates()"
      ],
      "metadata": {
        "id": "QXu6XL6ZNEKs"
      },
      "execution_count": 7,
      "outputs": []
    },
    {
      "cell_type": "code",
      "source": [
        "def get_recommendations(CharName, cosine_sim=cosine_sim):\n",
        "\n",
        "  # character name에 해당하는 character의 index 불러오기\n",
        "  idx = indices[CharName]\n",
        "\n",
        "  # idx character와 모든 character 사이 코사인 유사도 리스트 생성\n",
        "  sim_scores = list(enumerate(cosine_sim[idx]))\n",
        "\n",
        "  # 코사인 유사도 기준 정렬\n",
        "  sim_scores = sorted(sim_scores, key = lambda x: x[1], reverse = True)\n",
        "\n",
        "  # 가장 유사한 점수 20개 반환\n",
        "  sim_scores = sim_scores[1:21]\n",
        "\n",
        "  # character의 인덱스 반환\n",
        "  char_indices = [i[0] for i in sim_scores]\n",
        "\n",
        "  # top 20 character 반환\n",
        "  return characters_data['CharName'].iloc[char_indices], sim_scores, list(char_indices)"
      ],
      "metadata": {
        "id": "KtG2kKQ6NWFQ"
      },
      "execution_count": 8,
      "outputs": []
    },
    {
      "cell_type": "code",
      "source": [
        "get_recommendations('Light YAGAMI')"
      ],
      "metadata": {
        "colab": {
          "base_uri": "https://localhost:8080/"
        },
        "id": "Yoi9M8huNs1T",
        "outputId": "2008288e-3d5a-46ee-a9c9-75c4011cebde"
      },
      "execution_count": 9,
      "outputs": [
        {
          "output_type": "execute_result",
          "data": {
            "text/plain": [
              "(3050         Sachiko YAGAMI\n",
              " 1433          Heiji HATTORI\n",
              " 599                  Kizaru\n",
              " 10962              Cybersix\n",
              " 5387         Kazunobu CHIBA\n",
              " 7632              The Raven\n",
              " 233           Ritsu TAINAKA\n",
              " 243        Tsumugi KOTOBUKI\n",
              " 2558                  Dorry\n",
              " 226           Medusa GORGON\n",
              " 3195           Yuusaku KUDO\n",
              " 156           Kouichi SHIDO\n",
              " 445        Silvers RAYLEIGH\n",
              " 1534                 Sosuke\n",
              " 2233            Johnny GILL\n",
              " 8446          Heizo HATTORI\n",
              " 695         Emporio IVANKOV\n",
              " 1840     Sonic The Hedgehog\n",
              " 7328       Riichi JINNOUCHI\n",
              " 125          Kenshin HIMURA\n",
              " Name: CharName, dtype: object,\n",
              " [(3050, 0.16059488520684762),\n",
              "  (1433, 0.10929357400015212),\n",
              "  (599, 0.0907920217440325),\n",
              "  (10962, 0.08915917807873473),\n",
              "  (5387, 0.08576495230727071),\n",
              "  (7632, 0.08472282514648062),\n",
              "  (233, 0.08424687364844216),\n",
              "  (243, 0.07695025071714368),\n",
              "  (2558, 0.07447096275861159),\n",
              "  (226, 0.07402580743155779),\n",
              "  (3195, 0.07054748066655989),\n",
              "  (156, 0.07024112882800342),\n",
              "  (445, 0.06960127177016505),\n",
              "  (1534, 0.06921685151412632),\n",
              "  (2233, 0.06805599419241759),\n",
              "  (8446, 0.06683599703665039),\n",
              "  (695, 0.06635732604687564),\n",
              "  (1840, 0.06436141672786883),\n",
              "  (7328, 0.06388527146523951),\n",
              "  (125, 0.06358157640463438)],\n",
              " [3050,\n",
              "  1433,\n",
              "  599,\n",
              "  10962,\n",
              "  5387,\n",
              "  7632,\n",
              "  233,\n",
              "  243,\n",
              "  2558,\n",
              "  226,\n",
              "  3195,\n",
              "  156,\n",
              "  445,\n",
              "  1534,\n",
              "  2233,\n",
              "  8446,\n",
              "  695,\n",
              "  1840,\n",
              "  7328,\n",
              "  125])"
            ]
          },
          "metadata": {},
          "execution_count": 9
        }
      ]
    },
    {
      "cell_type": "markdown",
      "source": [
        "# Anime Synopsis \n",
        "\n",
        "- Anime dataset에서 synopsis 추출\n",
        "- Synopsis 문자열 벡터화\n",
        "- 최애 Anime와 다른 모든 Anime description 사이 코사인 유사도 추출\n",
        "- 유사도 기반 top 20 Anime 추천"
      ],
      "metadata": {
        "id": "IH-iJmztPoC1"
      }
    },
    {
      "cell_type": "code",
      "source": [
        "anime_data = pd.read_csv('/content/drive/MyDrive/CUAI_summer/anime_full.csv')"
      ],
      "metadata": {
        "id": "6ss3xjZfN2_V"
      },
      "execution_count": 10,
      "outputs": []
    },
    {
      "cell_type": "code",
      "source": [
        "anime_data.head(3)"
      ],
      "metadata": {
        "colab": {
          "base_uri": "https://localhost:8080/",
          "height": 140
        },
        "id": "99U95CIfPVUW",
        "outputId": "381ababf-9160-4127-b183-5f7b0fd03abb"
      },
      "execution_count": 11,
      "outputs": [
        {
          "output_type": "execute_result",
          "data": {
            "text/plain": [
              "   MAL_ID                             Name  \\\n",
              "0       1                     Cowboy Bebop   \n",
              "1       5  Cowboy Bebop: Tengoku no Tobira   \n",
              "2       6                           Trigun   \n",
              "\n",
              "                                         Genres  \\\n",
              "0    Action,Adventure,Comedy,Drama,Sci-Fi,Space   \n",
              "1             Action,Drama,Mystery,Sci-Fi,Space   \n",
              "2  Action,Sci-Fi,Adventure,Comedy,Drama,Shounen   \n",
              "\n",
              "                                            synopsis   Type    Source    Year  \n",
              "0  In the year 2071, humanity has colonized sever...     TV  Original  1990.0  \n",
              "1  other day, another bounty—such is the life of ...  Movie  Original  2000.0  \n",
              "2  Vash the Stampede is the man with a $$60,000,0...     TV     Manga  1990.0  "
            ],
            "text/html": [
              "\n",
              "  <div id=\"df-faa63c19-430c-4203-a230-1643f6918de4\">\n",
              "    <div class=\"colab-df-container\">\n",
              "      <div>\n",
              "<style scoped>\n",
              "    .dataframe tbody tr th:only-of-type {\n",
              "        vertical-align: middle;\n",
              "    }\n",
              "\n",
              "    .dataframe tbody tr th {\n",
              "        vertical-align: top;\n",
              "    }\n",
              "\n",
              "    .dataframe thead th {\n",
              "        text-align: right;\n",
              "    }\n",
              "</style>\n",
              "<table border=\"1\" class=\"dataframe\">\n",
              "  <thead>\n",
              "    <tr style=\"text-align: right;\">\n",
              "      <th></th>\n",
              "      <th>MAL_ID</th>\n",
              "      <th>Name</th>\n",
              "      <th>Genres</th>\n",
              "      <th>synopsis</th>\n",
              "      <th>Type</th>\n",
              "      <th>Source</th>\n",
              "      <th>Year</th>\n",
              "    </tr>\n",
              "  </thead>\n",
              "  <tbody>\n",
              "    <tr>\n",
              "      <th>0</th>\n",
              "      <td>1</td>\n",
              "      <td>Cowboy Bebop</td>\n",
              "      <td>Action,Adventure,Comedy,Drama,Sci-Fi,Space</td>\n",
              "      <td>In the year 2071, humanity has colonized sever...</td>\n",
              "      <td>TV</td>\n",
              "      <td>Original</td>\n",
              "      <td>1990.0</td>\n",
              "    </tr>\n",
              "    <tr>\n",
              "      <th>1</th>\n",
              "      <td>5</td>\n",
              "      <td>Cowboy Bebop: Tengoku no Tobira</td>\n",
              "      <td>Action,Drama,Mystery,Sci-Fi,Space</td>\n",
              "      <td>other day, another bounty—such is the life of ...</td>\n",
              "      <td>Movie</td>\n",
              "      <td>Original</td>\n",
              "      <td>2000.0</td>\n",
              "    </tr>\n",
              "    <tr>\n",
              "      <th>2</th>\n",
              "      <td>6</td>\n",
              "      <td>Trigun</td>\n",
              "      <td>Action,Sci-Fi,Adventure,Comedy,Drama,Shounen</td>\n",
              "      <td>Vash the Stampede is the man with a $$60,000,0...</td>\n",
              "      <td>TV</td>\n",
              "      <td>Manga</td>\n",
              "      <td>1990.0</td>\n",
              "    </tr>\n",
              "  </tbody>\n",
              "</table>\n",
              "</div>\n",
              "      <button class=\"colab-df-convert\" onclick=\"convertToInteractive('df-faa63c19-430c-4203-a230-1643f6918de4')\"\n",
              "              title=\"Convert this dataframe to an interactive table.\"\n",
              "              style=\"display:none;\">\n",
              "        \n",
              "  <svg xmlns=\"http://www.w3.org/2000/svg\" height=\"24px\"viewBox=\"0 0 24 24\"\n",
              "       width=\"24px\">\n",
              "    <path d=\"M0 0h24v24H0V0z\" fill=\"none\"/>\n",
              "    <path d=\"M18.56 5.44l.94 2.06.94-2.06 2.06-.94-2.06-.94-.94-2.06-.94 2.06-2.06.94zm-11 1L8.5 8.5l.94-2.06 2.06-.94-2.06-.94L8.5 2.5l-.94 2.06-2.06.94zm10 10l.94 2.06.94-2.06 2.06-.94-2.06-.94-.94-2.06-.94 2.06-2.06.94z\"/><path d=\"M17.41 7.96l-1.37-1.37c-.4-.4-.92-.59-1.43-.59-.52 0-1.04.2-1.43.59L10.3 9.45l-7.72 7.72c-.78.78-.78 2.05 0 2.83L4 21.41c.39.39.9.59 1.41.59.51 0 1.02-.2 1.41-.59l7.78-7.78 2.81-2.81c.8-.78.8-2.07 0-2.86zM5.41 20L4 18.59l7.72-7.72 1.47 1.35L5.41 20z\"/>\n",
              "  </svg>\n",
              "      </button>\n",
              "      \n",
              "  <style>\n",
              "    .colab-df-container {\n",
              "      display:flex;\n",
              "      flex-wrap:wrap;\n",
              "      gap: 12px;\n",
              "    }\n",
              "\n",
              "    .colab-df-convert {\n",
              "      background-color: #E8F0FE;\n",
              "      border: none;\n",
              "      border-radius: 50%;\n",
              "      cursor: pointer;\n",
              "      display: none;\n",
              "      fill: #1967D2;\n",
              "      height: 32px;\n",
              "      padding: 0 0 0 0;\n",
              "      width: 32px;\n",
              "    }\n",
              "\n",
              "    .colab-df-convert:hover {\n",
              "      background-color: #E2EBFA;\n",
              "      box-shadow: 0px 1px 2px rgba(60, 64, 67, 0.3), 0px 1px 3px 1px rgba(60, 64, 67, 0.15);\n",
              "      fill: #174EA6;\n",
              "    }\n",
              "\n",
              "    [theme=dark] .colab-df-convert {\n",
              "      background-color: #3B4455;\n",
              "      fill: #D2E3FC;\n",
              "    }\n",
              "\n",
              "    [theme=dark] .colab-df-convert:hover {\n",
              "      background-color: #434B5C;\n",
              "      box-shadow: 0px 1px 3px 1px rgba(0, 0, 0, 0.15);\n",
              "      filter: drop-shadow(0px 1px 2px rgba(0, 0, 0, 0.3));\n",
              "      fill: #FFFFFF;\n",
              "    }\n",
              "  </style>\n",
              "\n",
              "      <script>\n",
              "        const buttonEl =\n",
              "          document.querySelector('#df-faa63c19-430c-4203-a230-1643f6918de4 button.colab-df-convert');\n",
              "        buttonEl.style.display =\n",
              "          google.colab.kernel.accessAllowed ? 'block' : 'none';\n",
              "\n",
              "        async function convertToInteractive(key) {\n",
              "          const element = document.querySelector('#df-faa63c19-430c-4203-a230-1643f6918de4');\n",
              "          const dataTable =\n",
              "            await google.colab.kernel.invokeFunction('convertToInteractive',\n",
              "                                                     [key], {});\n",
              "          if (!dataTable) return;\n",
              "\n",
              "          const docLinkHtml = 'Like what you see? Visit the ' +\n",
              "            '<a target=\"_blank\" href=https://colab.research.google.com/notebooks/data_table.ipynb>data table notebook</a>'\n",
              "            + ' to learn more about interactive tables.';\n",
              "          element.innerHTML = '';\n",
              "          dataTable['output_type'] = 'display_data';\n",
              "          await google.colab.output.renderOutput(dataTable, element);\n",
              "          const docLink = document.createElement('div');\n",
              "          docLink.innerHTML = docLinkHtml;\n",
              "          element.appendChild(docLink);\n",
              "        }\n",
              "      </script>\n",
              "    </div>\n",
              "  </div>\n",
              "  "
            ]
          },
          "metadata": {},
          "execution_count": 11
        }
      ]
    },
    {
      "cell_type": "code",
      "source": [
        "anime_data['synopsis'].head(3)"
      ],
      "metadata": {
        "colab": {
          "base_uri": "https://localhost:8080/"
        },
        "id": "Y3QN7t2mQtbX",
        "outputId": "7397bba4-f4f4-431b-a743-58ca9bd9cad5"
      },
      "execution_count": 12,
      "outputs": [
        {
          "output_type": "execute_result",
          "data": {
            "text/plain": [
              "0    In the year 2071, humanity has colonized sever...\n",
              "1    other day, another bounty—such is the life of ...\n",
              "2    Vash the Stampede is the man with a $$60,000,0...\n",
              "Name: synopsis, dtype: object"
            ]
          },
          "metadata": {},
          "execution_count": 12
        }
      ]
    },
    {
      "cell_type": "code",
      "source": [
        "tfidf = TfidfVectorizer(stop_words='english', sublinear_tf = True)    # 객체 지정. 'the', 'a' 같은 stop words 제거, smoothing\n",
        "\n",
        "anime_data['synopsis'] = anime_data['synopsis'].fillna('')    # NaN은 공백문자열로 변환\n",
        "\n",
        "tfidf_matrix2 = tfidf.fit_transform(anime_data['synopsis'])    # 구축\n",
        "\n",
        "tfidf_matrix2.shape"
      ],
      "metadata": {
        "colab": {
          "base_uri": "https://localhost:8080/"
        },
        "id": "_Kg6RLfYQ22m",
        "outputId": "6014918f-0788-4dda-c431-f47a035ab870"
      },
      "execution_count": 13,
      "outputs": [
        {
          "output_type": "execute_result",
          "data": {
            "text/plain": [
              "(12181, 40927)"
            ]
          },
          "metadata": {},
          "execution_count": 13
        }
      ]
    },
    {
      "cell_type": "code",
      "source": [
        "cosine_sim2 = linear_kernel(tfidf_matrix2, tfidf_matrix2)"
      ],
      "metadata": {
        "id": "yr-uiMalSG2T"
      },
      "execution_count": 14,
      "outputs": []
    },
    {
      "cell_type": "code",
      "source": [
        "indices2 = pd.Series(anime_data.index, index = anime_data['Name']).drop_duplicates()"
      ],
      "metadata": {
        "id": "HxExip-YSUW0"
      },
      "execution_count": 15,
      "outputs": []
    },
    {
      "cell_type": "code",
      "source": [
        "def get_recommendations_anime(Name, cosine_sim=cosine_sim2):\n",
        "\n",
        "  # Anime name에 해당하는 Anime의 index 불러오기\n",
        "  idx2 = indices2[Name]\n",
        "\n",
        "  # idx Anime와 모든 Anime 사이 코사인 유사도 리스트 생성\n",
        "  sim_scores2 = list(enumerate(cosine_sim2[idx2]))\n",
        "\n",
        "  # 코사인 유사도 기준 정렬\n",
        "  sim_scores2 = sorted(sim_scores2, key = lambda x: x[1], reverse = True)\n",
        "\n",
        "  # 가장 유사한 점수 20개 반환\n",
        "  sim_scores2 = sim_scores2[1:21]\n",
        "\n",
        "  # character의 인덱스 반환\n",
        "  anime_indices2 = [i[0] for i in sim_scores2]\n",
        "\n",
        "  # top 20 character 반환\n",
        "  return anime_data['Name'].iloc[anime_indices2], sim_scores2, list(anime_indices2)"
      ],
      "metadata": {
        "id": "_TodPbqwSapU"
      },
      "execution_count": 16,
      "outputs": []
    },
    {
      "cell_type": "code",
      "source": [
        "get_recommendations_anime('Naruto')"
      ],
      "metadata": {
        "colab": {
          "base_uri": "https://localhost:8080/"
        },
        "id": "nQ5Rzog7S_WW",
        "outputId": "c3025b6a-5d6f-43e4-bfac-48d12866fcd5"
      },
      "execution_count": 17,
      "outputs": [
        {
          "output_type": "execute_result",
          "data": {
            "text/plain": [
              "(8010                       Boruto: Naruto Next Generations\n",
              " 1366                                    Naruto: Shippuuden\n",
              " 6069                              Boruto: Naruto the Movie\n",
              " 4611            Naruto: Shippuuden Movie 6 - Road to Ninja\n",
              " 4525      Naruto SD: Rock Lee no Seishun Full-Power Ninden\n",
              " 533      Naruto: Takigakure no Shitou - Ore ga Eiyuu Da...\n",
              " 4932                            The Last: Naruto the Movie\n",
              " 3574           Naruto: Shippuuden Movie 4 - The Lost Tower\n",
              " 2609                   Naruto: Shippuuden Movie 2 - Kizuna\n",
              " 650              Naruto: Akaki Yotsuba no Clover wo Sagase\n",
              " 1831                            Naruto: Shippuuden Movie 1\n",
              " 3392                               Naruto: The Cross Roads\n",
              " 6980     Boruto: Naruto the Movie - Naruto ga Hokage ni...\n",
              " 4162             Naruto: Shippuuden Movie 5 - Blood Prison\n",
              " 3114     Naruto: Shippuuden Movie 3 - Hi no Ishi wo Tsu...\n",
              " 787      Naruto Movie 2: Dai Gekitotsu! Maboroshi no Ch...\n",
              " 4181     Naruto: Honoo no Chuunin Shiken! Naruto vs. Ko...\n",
              " 1726     Naruto: Dai Katsugeki!! Yuki Hime Shinobu Houj...\n",
              " 394      Naruto Movie 1: Dai Katsugeki!! Yuki Hime Shin...\n",
              " 11377                                              Newsong\n",
              " Name: Name, dtype: object,\n",
              " [(8010, 0.29604919652059314),\n",
              "  (1366, 0.2941441037249236),\n",
              "  (6069, 0.24656522744865766),\n",
              "  (4611, 0.24526308268554967),\n",
              "  (4525, 0.18832008806843947),\n",
              "  (533, 0.18410008327259667),\n",
              "  (4932, 0.1817302954789305),\n",
              "  (3574, 0.17821718134216347),\n",
              "  (2609, 0.15537122488056515),\n",
              "  (650, 0.1553709709094096),\n",
              "  (1831, 0.14077685995229028),\n",
              "  (3392, 0.13610622538890293),\n",
              "  (6980, 0.12817817240062265),\n",
              "  (4162, 0.12811498884623101),\n",
              "  (3114, 0.12342407446184203),\n",
              "  (787, 0.11000048325990533),\n",
              "  (4181, 0.10042014410725024),\n",
              "  (1726, 0.0926964444716802),\n",
              "  (394, 0.09109397793897793),\n",
              "  (11377, 0.08879348377016207)],\n",
              " [8010,\n",
              "  1366,\n",
              "  6069,\n",
              "  4611,\n",
              "  4525,\n",
              "  533,\n",
              "  4932,\n",
              "  3574,\n",
              "  2609,\n",
              "  650,\n",
              "  1831,\n",
              "  3392,\n",
              "  6980,\n",
              "  4162,\n",
              "  3114,\n",
              "  787,\n",
              "  4181,\n",
              "  1726,\n",
              "  394,\n",
              "  11377])"
            ]
          },
          "metadata": {},
          "execution_count": 17
        }
      ]
    },
    {
      "cell_type": "markdown",
      "source": [
        "#Character Recommender\n",
        "#Anime Recommender"
      ],
      "metadata": {
        "id": "PjklzL1DU-FO"
      }
    },
    {
      "cell_type": "code",
      "source": [
        "get_recommendations('Taiga AISAKA')"
      ],
      "metadata": {
        "colab": {
          "base_uri": "https://localhost:8080/"
        },
        "id": "LMrwQK3WU1ys",
        "outputId": "2e1bb894-8121-490c-e6d0-3f410a708ac8"
      },
      "execution_count": 18,
      "outputs": [
        {
          "output_type": "execute_result",
          "data": {
            "text/plain": [
              "(506     Yuusaku KITAMURA\n",
              " 3868              Miyako\n",
              " 1338          Mira NYGUS\n",
              " 6650          Naomi MIWA\n",
              " 1136       Yamato ISHIDA\n",
              " 237        Chihiro OGINO\n",
              " 1433       Heiji HATTORI\n",
              " 5256     Majiru ITOSHIKI\n",
              " 4427           Wadatsumi\n",
              " 2201       Hiromu SHINBO\n",
              " 2764       Hiroshi AGASA\n",
              " 948           Dr. Kureha\n",
              " 3496       Kakeru DAICHI\n",
              " 9945       Kaya BERGMANN\n",
              " 4928         Rika SASAKI\n",
              " 166      Minori KUSHIEDA\n",
              " 5797    Reiichirou SHIBA\n",
              " 2501              Marulk\n",
              " 4451      Najimi TENKUJI\n",
              " 75         Ryuuji TAKASU\n",
              " Name: CharName, dtype: object,\n",
              " [(506, 0.16127228489276607),\n",
              "  (3868, 0.12177815441061064),\n",
              "  (1338, 0.11130802138265963),\n",
              "  (6650, 0.10883364067510277),\n",
              "  (1136, 0.09695775476396162),\n",
              "  (237, 0.09579430577439475),\n",
              "  (1433, 0.08646664154171202),\n",
              "  (5256, 0.08526239607224648),\n",
              "  (4427, 0.08339308844430773),\n",
              "  (2201, 0.08293396541666226),\n",
              "  (2764, 0.08254502623083763),\n",
              "  (948, 0.08228626028562822),\n",
              "  (3496, 0.08164426281922424),\n",
              "  (9945, 0.07920319411783477),\n",
              "  (4928, 0.07836333540807192),\n",
              "  (166, 0.07701164731869511),\n",
              "  (5797, 0.07683767470704783),\n",
              "  (2501, 0.07438006869584238),\n",
              "  (4451, 0.07186789054839893),\n",
              "  (75, 0.07141957250098045)],\n",
              " [506,\n",
              "  3868,\n",
              "  1338,\n",
              "  6650,\n",
              "  1136,\n",
              "  237,\n",
              "  1433,\n",
              "  5256,\n",
              "  4427,\n",
              "  2201,\n",
              "  2764,\n",
              "  948,\n",
              "  3496,\n",
              "  9945,\n",
              "  4928,\n",
              "  166,\n",
              "  5797,\n",
              "  2501,\n",
              "  4451,\n",
              "  75])"
            ]
          },
          "metadata": {},
          "execution_count": 18
        }
      ]
    },
    {
      "cell_type": "code",
      "source": [
        "get_recommendations_anime('Toradora!')"
      ],
      "metadata": {
        "colab": {
          "base_uri": "https://localhost:8080/"
        },
        "id": "W4U4C1azVk7r",
        "outputId": "d2d26efe-4a23-459e-a2d0-6072f37a6e1f"
      },
      "execution_count": 19,
      "outputs": [
        {
          "output_type": "execute_result",
          "data": {
            "text/plain": [
              "(4317                Toradora!: Bentou no Gokui\n",
              " 9326                           Puzzle & Dragon\n",
              " 4355                          Kuroko no Basket\n",
              " 3064              Gokujou!! Mecha Mote Iinchou\n",
              " 3067      Toradora!: SOS! Kuishinbou Banbanzai\n",
              " 9986                           Musunde Hiraite\n",
              " 11415          Koi to Yobu ni wa Kimochi Warui\n",
              " 4014            Angel Beats!: Another Epilogue\n",
              " 47                              Azumanga Daioh\n",
              " 2322                       Tenshi Nanka ja Nai\n",
              " 2989                       Seitokai no Ichizon\n",
              " 6664                        Wagamama High Spec\n",
              " 14                               School Rumble\n",
              " 3356                    Ladies versus Butlers!\n",
              " 3691                       Seitokai Yakuindomo\n",
              " 4576       Kono Naka ni Hitori, Imouto ga Iru!\n",
              " 3337                     Kaichou wa Maid-sama!\n",
              " 636                             Umi ga Kikoeru\n",
              " 1384     Ring ni Kakero 1: Nichibei Kessen-hen\n",
              " 997                                  Tsuyokiss\n",
              " Name: Name, dtype: object,\n",
              " [(4317, 0.177702274302603),\n",
              "  (9326, 0.1245305455228088),\n",
              "  (4355, 0.11021714056048984),\n",
              "  (3064, 0.10884298213492948),\n",
              "  (3067, 0.09359362947032618),\n",
              "  (9986, 0.09296474554005656),\n",
              "  (11415, 0.09072933573413647),\n",
              "  (4014, 0.09014558832115903),\n",
              "  (47, 0.08928701623601663),\n",
              "  (2322, 0.08924379717640711),\n",
              "  (2989, 0.0850378912094683),\n",
              "  (6664, 0.08351238556257948),\n",
              "  (14, 0.08149221584018355),\n",
              "  (3356, 0.07991142612989581),\n",
              "  (3691, 0.07989113955923574),\n",
              "  (4576, 0.0798287271253449),\n",
              "  (3337, 0.07937247537579999),\n",
              "  (636, 0.07876792772907958),\n",
              "  (1384, 0.0778885797601385),\n",
              "  (997, 0.0777471104335992)],\n",
              " [4317,\n",
              "  9326,\n",
              "  4355,\n",
              "  3064,\n",
              "  3067,\n",
              "  9986,\n",
              "  11415,\n",
              "  4014,\n",
              "  47,\n",
              "  2322,\n",
              "  2989,\n",
              "  6664,\n",
              "  14,\n",
              "  3356,\n",
              "  3691,\n",
              "  4576,\n",
              "  3337,\n",
              "  636,\n",
              "  1384,\n",
              "  997])"
            ]
          },
          "metadata": {},
          "execution_count": 19
        }
      ]
    },
    {
      "cell_type": "code",
      "source": [
        ""
      ],
      "metadata": {
        "id": "JvkvZqqT6T81"
      },
      "execution_count": 19,
      "outputs": []
    }
  ]
}