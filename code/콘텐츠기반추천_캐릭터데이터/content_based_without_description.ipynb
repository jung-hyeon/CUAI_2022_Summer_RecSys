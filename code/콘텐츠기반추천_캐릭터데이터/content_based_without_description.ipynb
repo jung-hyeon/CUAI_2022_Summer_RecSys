{
 "cells": [
  {
   "cell_type": "markdown",
   "metadata": {
    "id": "bD3u4-2Rp1xj"
   },
   "source": [
    "# 캐릭터 추천"
   ]
  },
  {
   "cell_type": "code",
   "execution_count": 1,
   "metadata": {
    "executionInfo": {
     "elapsed": 255,
     "status": "ok",
     "timestamp": 1659892164566,
     "user": {
      "displayName": "박정현",
      "userId": "00427218869401903378"
     },
     "user_tz": -540
    },
    "id": "4WgdepgTfswb"
   },
   "outputs": [],
   "source": [
    "import pandas as pd\n",
    "import numpy as np\n",
    "from sklearn.feature_extraction.text import CountVectorizer\n",
    "from sklearn.metrics.pairwise import cosine_similarity"
   ]
  },
  {
   "cell_type": "code",
   "execution_count": 3,
   "metadata": {
    "colab": {
     "base_uri": "https://localhost:8080/",
     "height": 206
    },
    "executionInfo": {
     "elapsed": 320,
     "status": "ok",
     "timestamp": 1659892165183,
     "user": {
      "displayName": "박정현",
      "userId": "00427218869401903378"
     },
     "user_tz": -540
    },
    "id": "pr1sz5nrgBJw",
    "outputId": "58866221-9c75-4a07-a1b2-20439256a173"
   },
   "outputs": [
    {
     "data": {
      "text/html": [
       "<div>\n",
       "<style scoped>\n",
       "    .dataframe tbody tr th:only-of-type {\n",
       "        vertical-align: middle;\n",
       "    }\n",
       "\n",
       "    .dataframe tbody tr th {\n",
       "        vertical-align: top;\n",
       "    }\n",
       "\n",
       "    .dataframe thead th {\n",
       "        text-align: right;\n",
       "    }\n",
       "</style>\n",
       "<table border=\"1\" class=\"dataframe\">\n",
       "  <thead>\n",
       "    <tr style=\"text-align: right;\">\n",
       "      <th></th>\n",
       "      <th>ID</th>\n",
       "      <th>CharName</th>\n",
       "      <th>Gender</th>\n",
       "      <th>HairColor</th>\n",
       "      <th>Tags</th>\n",
       "      <th>Description</th>\n",
       "      <th>url</th>\n",
       "      <th>MAL_ID</th>\n",
       "    </tr>\n",
       "  </thead>\n",
       "  <tbody>\n",
       "    <tr>\n",
       "      <th>0</th>\n",
       "      <td>0</td>\n",
       "      <td>L</td>\n",
       "      <td>Male</td>\n",
       "      <td>Black</td>\n",
       "      <td>Analytical,Barefoot,Detectives,EyeBags,SweetTooth</td>\n",
       "      <td>Secretive, meticulous and cunning, L's desire ...</td>\n",
       "      <td>https://www.anime-planet.com/characters/l-deat...</td>\n",
       "      <td>1535.0</td>\n",
       "    </tr>\n",
       "    <tr>\n",
       "      <th>1</th>\n",
       "      <td>98</td>\n",
       "      <td>Kakashi HATAKE</td>\n",
       "      <td>Male</td>\n",
       "      <td>Grey</td>\n",
       "      <td>Adults,Anti-GravityHair,Beastmasters,ExoticEye...</td>\n",
       "      <td>Kakashi is a jounin ninja from Konoha who is k...</td>\n",
       "      <td>https://www.anime-planet.com/characters/kakash...</td>\n",
       "      <td>34566.0</td>\n",
       "    </tr>\n",
       "    <tr>\n",
       "      <th>2</th>\n",
       "      <td>348</td>\n",
       "      <td>Light YAGAMI</td>\n",
       "      <td>Male</td>\n",
       "      <td>Brown</td>\n",
       "      <td>Analytical,BigEgo,Charismatic,GodComplex,Manip...</td>\n",
       "      <td>Armed with the power of Ryuk's Death Note, Lig...</td>\n",
       "      <td>https://www.anime-planet.com/characters/light-...</td>\n",
       "      <td>1535.0</td>\n",
       "    </tr>\n",
       "    <tr>\n",
       "      <th>3</th>\n",
       "      <td>279</td>\n",
       "      <td>Naruto UZUMAKI</td>\n",
       "      <td>Male</td>\n",
       "      <td>Blonde</td>\n",
       "      <td>Beastmasters,FaceMarkings,Headbands,Hot-Headed...</td>\n",
       "      <td>Naruto is a young ninja with a single dream: t...</td>\n",
       "      <td>https://www.anime-planet.com/characters/naruto...</td>\n",
       "      <td>35072.0</td>\n",
       "    </tr>\n",
       "    <tr>\n",
       "      <th>4</th>\n",
       "      <td>103</td>\n",
       "      <td>Edward ELRIC</td>\n",
       "      <td>Male</td>\n",
       "      <td>Blonde</td>\n",
       "      <td>Alchemists,ArmBlades,ArtificialLimbs,Braids,Gl...</td>\n",
       "      <td>Known as a prodigy and one of the strongest al...</td>\n",
       "      <td>https://www.anime-planet.com/characters/edward...</td>\n",
       "      <td>121.0</td>\n",
       "    </tr>\n",
       "  </tbody>\n",
       "</table>\n",
       "</div>"
      ],
      "text/plain": [
       "    ID        CharName Gender HairColor  \\\n",
       "0    0               L   Male     Black   \n",
       "1   98  Kakashi HATAKE   Male      Grey   \n",
       "2  348    Light YAGAMI   Male     Brown   \n",
       "3  279  Naruto UZUMAKI   Male    Blonde   \n",
       "4  103    Edward ELRIC   Male    Blonde   \n",
       "\n",
       "                                                Tags  \\\n",
       "0  Analytical,Barefoot,Detectives,EyeBags,SweetTooth   \n",
       "1  Adults,Anti-GravityHair,Beastmasters,ExoticEye...   \n",
       "2  Analytical,BigEgo,Charismatic,GodComplex,Manip...   \n",
       "3  Beastmasters,FaceMarkings,Headbands,Hot-Headed...   \n",
       "4  Alchemists,ArmBlades,ArtificialLimbs,Braids,Gl...   \n",
       "\n",
       "                                         Description  \\\n",
       "0  Secretive, meticulous and cunning, L's desire ...   \n",
       "1  Kakashi is a jounin ninja from Konoha who is k...   \n",
       "2  Armed with the power of Ryuk's Death Note, Lig...   \n",
       "3  Naruto is a young ninja with a single dream: t...   \n",
       "4  Known as a prodigy and one of the strongest al...   \n",
       "\n",
       "                                                 url   MAL_ID  \n",
       "0  https://www.anime-planet.com/characters/l-deat...   1535.0  \n",
       "1  https://www.anime-planet.com/characters/kakash...  34566.0  \n",
       "2  https://www.anime-planet.com/characters/light-...   1535.0  \n",
       "3  https://www.anime-planet.com/characters/naruto...  35072.0  \n",
       "4  https://www.anime-planet.com/characters/edward...    121.0  "
      ]
     },
     "execution_count": 3,
     "metadata": {},
     "output_type": "execute_result"
    }
   ],
   "source": [
    "characters = pd.read_csv('./../../data/fixed/character_full.csv')\n",
    "characters.head()"
   ]
  },
  {
   "cell_type": "code",
   "execution_count": 5,
   "metadata": {
    "executionInfo": {
     "elapsed": 6,
     "status": "ok",
     "timestamp": 1659892165184,
     "user": {
      "displayName": "박정현",
      "userId": "00427218869401903378"
     },
     "user_tz": -540
    },
    "id": "ZaiL-K06hEcF"
   },
   "outputs": [],
   "source": [
    "# Gender 소문자로 변환\n",
    "characters['Gender'] = characters['Gender'].map(lambda x: x.lower())\n",
    "\n",
    "# HairColor 소문자로 변환\n",
    "characters['HairColor'] = characters['HairColor'].map(lambda x: x.lower())\n",
    "\n",
    "# 'Tags'를 리스트로 변환\n",
    "characters['Tags'] = characters['Tags'].map(lambda x: x.lower().split(','))"
   ]
  },
  {
   "cell_type": "code",
   "execution_count": 6,
   "metadata": {
    "executionInfo": {
     "elapsed": 10834,
     "status": "ok",
     "timestamp": 1659892176013,
     "user": {
      "displayName": "박정현",
      "userId": "00427218869401903378"
     },
     "user_tz": -540
    },
    "id": "DtVEoxlFJCNZ"
   },
   "outputs": [],
   "source": [
    "# Gender, HairColor, Tags를 하나의 리스트로 만들기\n",
    "characters['bag_of_words'] = ''\n",
    "columns = ['Gender', 'HairColor', 'Tags']\n",
    "\n",
    "for idx in characters.index:\n",
    "    words = ''\n",
    "    for col in columns:\n",
    "        if col == 'Tags':\n",
    "            words = words + ' '.join(characters.loc[idx,col]) + ' '\n",
    "        else:\n",
    "            words = words + characters.loc[idx,col] + ' '\n",
    "    characters.loc[idx,'bag_of_words'] = words\n",
    "\n",
    "characters = characters.drop(columns=['Gender','HairColor','Tags'])"
   ]
  },
  {
   "cell_type": "code",
   "execution_count": 7,
   "metadata": {
    "colab": {
     "base_uri": "https://localhost:8080/",
     "height": 206
    },
    "executionInfo": {
     "elapsed": 24,
     "status": "ok",
     "timestamp": 1659892176016,
     "user": {
      "displayName": "박정현",
      "userId": "00427218869401903378"
     },
     "user_tz": -540
    },
    "id": "aieAaBOUz9t8",
    "outputId": "08ebcf6c-9ba7-48e1-e11b-37d9bdb965e4"
   },
   "outputs": [
    {
     "data": {
      "text/html": [
       "<div>\n",
       "<style scoped>\n",
       "    .dataframe tbody tr th:only-of-type {\n",
       "        vertical-align: middle;\n",
       "    }\n",
       "\n",
       "    .dataframe tbody tr th {\n",
       "        vertical-align: top;\n",
       "    }\n",
       "\n",
       "    .dataframe thead th {\n",
       "        text-align: right;\n",
       "    }\n",
       "</style>\n",
       "<table border=\"1\" class=\"dataframe\">\n",
       "  <thead>\n",
       "    <tr style=\"text-align: right;\">\n",
       "      <th></th>\n",
       "      <th>ID</th>\n",
       "      <th>CharName</th>\n",
       "      <th>Description</th>\n",
       "      <th>url</th>\n",
       "      <th>MAL_ID</th>\n",
       "      <th>bag_of_words</th>\n",
       "    </tr>\n",
       "  </thead>\n",
       "  <tbody>\n",
       "    <tr>\n",
       "      <th>0</th>\n",
       "      <td>0</td>\n",
       "      <td>L</td>\n",
       "      <td>Secretive, meticulous and cunning, L's desire ...</td>\n",
       "      <td>https://www.anime-planet.com/characters/l-deat...</td>\n",
       "      <td>1535.0</td>\n",
       "      <td>male black analytical barefoot detectives eyeb...</td>\n",
       "    </tr>\n",
       "    <tr>\n",
       "      <th>1</th>\n",
       "      <td>98</td>\n",
       "      <td>Kakashi HATAKE</td>\n",
       "      <td>Kakashi is a jounin ninja from Konoha who is k...</td>\n",
       "      <td>https://www.anime-planet.com/characters/kakash...</td>\n",
       "      <td>34566.0</td>\n",
       "      <td>male grey adults anti-gravityhair beastmasters...</td>\n",
       "    </tr>\n",
       "    <tr>\n",
       "      <th>2</th>\n",
       "      <td>348</td>\n",
       "      <td>Light YAGAMI</td>\n",
       "      <td>Armed with the power of Ryuk's Death Note, Lig...</td>\n",
       "      <td>https://www.anime-planet.com/characters/light-...</td>\n",
       "      <td>1535.0</td>\n",
       "      <td>male brown analytical bigego charismatic godco...</td>\n",
       "    </tr>\n",
       "    <tr>\n",
       "      <th>3</th>\n",
       "      <td>279</td>\n",
       "      <td>Naruto UZUMAKI</td>\n",
       "      <td>Naruto is a young ninja with a single dream: t...</td>\n",
       "      <td>https://www.anime-planet.com/characters/naruto...</td>\n",
       "      <td>35072.0</td>\n",
       "      <td>male blonde beastmasters facemarkings headband...</td>\n",
       "    </tr>\n",
       "    <tr>\n",
       "      <th>4</th>\n",
       "      <td>103</td>\n",
       "      <td>Edward ELRIC</td>\n",
       "      <td>Known as a prodigy and one of the strongest al...</td>\n",
       "      <td>https://www.anime-planet.com/characters/edward...</td>\n",
       "      <td>121.0</td>\n",
       "      <td>male blonde alchemists armblades artificiallim...</td>\n",
       "    </tr>\n",
       "  </tbody>\n",
       "</table>\n",
       "</div>"
      ],
      "text/plain": [
       "    ID        CharName                                        Description  \\\n",
       "0    0               L  Secretive, meticulous and cunning, L's desire ...   \n",
       "1   98  Kakashi HATAKE  Kakashi is a jounin ninja from Konoha who is k...   \n",
       "2  348    Light YAGAMI  Armed with the power of Ryuk's Death Note, Lig...   \n",
       "3  279  Naruto UZUMAKI  Naruto is a young ninja with a single dream: t...   \n",
       "4  103    Edward ELRIC  Known as a prodigy and one of the strongest al...   \n",
       "\n",
       "                                                 url   MAL_ID  \\\n",
       "0  https://www.anime-planet.com/characters/l-deat...   1535.0   \n",
       "1  https://www.anime-planet.com/characters/kakash...  34566.0   \n",
       "2  https://www.anime-planet.com/characters/light-...   1535.0   \n",
       "3  https://www.anime-planet.com/characters/naruto...  35072.0   \n",
       "4  https://www.anime-planet.com/characters/edward...    121.0   \n",
       "\n",
       "                                        bag_of_words  \n",
       "0  male black analytical barefoot detectives eyeb...  \n",
       "1  male grey adults anti-gravityhair beastmasters...  \n",
       "2  male brown analytical bigego charismatic godco...  \n",
       "3  male blonde beastmasters facemarkings headband...  \n",
       "4  male blonde alchemists armblades artificiallim...  "
      ]
     },
     "execution_count": 7,
     "metadata": {},
     "output_type": "execute_result"
    }
   ],
   "source": [
    "characters.head()"
   ]
  },
  {
   "cell_type": "code",
   "execution_count": 62,
   "metadata": {
    "colab": {
     "base_uri": "https://localhost:8080/"
    },
    "executionInfo": {
     "elapsed": 21,
     "status": "ok",
     "timestamp": 1659892176017,
     "user": {
      "displayName": "박정현",
      "userId": "00427218869401903378"
     },
     "user_tz": -540
    },
    "id": "UgWX_xOPe1i5",
    "outputId": "b8a957bd-c964-465b-ca2f-af2259c759b5"
   },
   "outputs": [
    {
     "data": {
      "text/plain": [
       "(13888, 6)"
      ]
     },
     "execution_count": 62,
     "metadata": {},
     "output_type": "execute_result"
    }
   ],
   "source": [
    "characters.shape"
   ]
  },
  {
   "cell_type": "code",
   "execution_count": 8,
   "metadata": {
    "colab": {
     "base_uri": "https://localhost:8080/"
    },
    "executionInfo": {
     "elapsed": 15,
     "status": "ok",
     "timestamp": 1659892176018,
     "user": {
      "displayName": "박정현",
      "userId": "00427218869401903378"
     },
     "user_tz": -540
    },
    "id": "w1rhWsBSLxFS",
    "outputId": "cfe88b69-40f3-44a8-f45b-7b7d117ea8b8"
   },
   "outputs": [
    {
     "data": {
      "text/plain": [
       "ID              0\n",
       "CharName        0\n",
       "Description     0\n",
       "url             0\n",
       "MAL_ID          0\n",
       "bag_of_words    0\n",
       "dtype: int64"
      ]
     },
     "execution_count": 8,
     "metadata": {},
     "output_type": "execute_result"
    }
   ],
   "source": [
    "characters.isnull().sum()"
   ]
  },
  {
   "cell_type": "code",
   "execution_count": 9,
   "metadata": {
    "executionInfo": {
     "elapsed": 6635,
     "status": "ok",
     "timestamp": 1659892182643,
     "user": {
      "displayName": "박정현",
      "userId": "00427218869401903378"
     },
     "user_tz": -540
    },
    "id": "qx8jwJTi0STI"
   },
   "outputs": [],
   "source": [
    "# count_matrix 생성\n",
    "count = CountVectorizer()\n",
    "count_matrix = count.fit_transform(characters['bag_of_words'])\n",
    "\n",
    "# cosine_similarity matrix 생성\n",
    "cosine_sim = cosine_similarity(count_matrix, count_matrix)"
   ]
  },
  {
   "cell_type": "code",
   "execution_count": 10,
   "metadata": {
    "colab": {
     "base_uri": "https://localhost:8080/"
    },
    "executionInfo": {
     "elapsed": 16,
     "status": "ok",
     "timestamp": 1659892182645,
     "user": {
      "displayName": "박정현",
      "userId": "00427218869401903378"
     },
     "user_tz": -540
    },
    "id": "eW25SURPNjJV",
    "outputId": "d9f8deab-7c46-4e4c-d8c8-f18d44bafc88"
   },
   "outputs": [
    {
     "data": {
      "text/plain": [
       "CharName\n",
       "L                 0\n",
       "Kakashi HATAKE    1\n",
       "Light YAGAMI      2\n",
       "Naruto UZUMAKI    3\n",
       "Edward ELRIC      4\n",
       "dtype: int64"
      ]
     },
     "execution_count": 10,
     "metadata": {},
     "output_type": "execute_result"
    }
   ],
   "source": [
    "# charName index\n",
    "indices = pd.Series(characters.index, index = characters['CharName']).drop_duplicates()\n",
    "indices[:5]"
   ]
  },
  {
   "cell_type": "code",
   "execution_count": 26,
   "metadata": {
    "executionInfo": {
     "elapsed": 270,
     "status": "ok",
     "timestamp": 1659893436637,
     "user": {
      "displayName": "박정현",
      "userId": "00427218869401903378"
     },
     "user_tz": -540
    },
    "id": "aP1eXjXu4pfV"
   },
   "outputs": [],
   "source": [
    "# character name받으면 상위 10개 character 추천\n",
    "def recommendations(character_name, cosine_sim = cosine_sim):\n",
    "    recommended_character = []\n",
    "    \n",
    "    # character name과 일치하는 index\n",
    "    idx = indices[character_name]\n",
    "\n",
    "    # similarity scores 내림차순 정렬\n",
    "    score_series = pd.Series(cosine_sim[idx]).sort_values(ascending = False)\n",
    "\n",
    "    # 유사도 top10 index list 생성\n",
    "    top_10_indexes = list(score_series.iloc[1:21].index)\n",
    "    \n",
    "    # 유사도 top10 리스트 생성\n",
    "    for i in top_10_indexes:\n",
    "        recommended_character.append(characters['ID'][i])\n",
    "        print(characters['CharName'][i])\n",
    "    return recommended_character"
   ]
  },
  {
   "cell_type": "code",
   "execution_count": 28,
   "metadata": {
    "colab": {
     "base_uri": "https://localhost:8080/"
    },
    "executionInfo": {
     "elapsed": 7,
     "status": "ok",
     "timestamp": 1659893437894,
     "user": {
      "displayName": "박정현",
      "userId": "00427218869401903378"
     },
     "user_tz": -540
    },
    "id": "c8TkMUqb6wzi",
    "outputId": "66453342-925d-49ce-c483-7b3dabe72850"
   },
   "outputs": [
    {
     "name": "stdout",
     "output_type": "stream",
     "text": [
      "Shinjurou YUUKI\n",
      "Taichi KEATON\n",
      "Teufel DIABOLOS\n",
      "Kazuya SHIBUYA\n",
      "Heinrich LUNGE\n",
      "Touta MATSUDA\n",
      "Shuichi AIZAWA\n",
      "Hanbee ABARA\n",
      "Hirokazu UKITA\n",
      "Kanzo MOGI\n",
      "Detective B\n",
      "Holmes\n",
      "Rokuro BUNDOU\n",
      "Richard BRAUN\n",
      "Katsuya MABUCHI\n",
      "Naomi MISORA\n",
      "Ronaldo KURIKI\n",
      "Mello\n",
      "Zen SEIZAKI\n",
      "Kogoro AKECHI\n"
     ]
    }
   ],
   "source": [
    "result = recommendations('L')"
   ]
  },
  {
   "cell_type": "markdown",
   "metadata": {
    "id": "0b3yl0WhppN2"
   },
   "source": [
    "# 애니메이션 추천"
   ]
  },
  {
   "cell_type": "markdown",
   "metadata": {
    "id": "97-wNEhMqcz6"
   },
   "source": [
    "추천된 애니매이션 캐릭터에 해당하는 애니메이션 추천"
   ]
  },
  {
   "cell_type": "code",
   "execution_count": 84,
   "metadata": {
    "colab": {
     "base_uri": "https://localhost:8080/",
     "height": 206
    },
    "executionInfo": {
     "elapsed": 745,
     "status": "ok",
     "timestamp": 1659893465247,
     "user": {
      "displayName": "박정현",
      "userId": "00427218869401903378"
     },
     "user_tz": -540
    },
    "id": "lCJJ0St68kdP",
    "outputId": "6484e65c-2b58-4744-c64e-1064af07df49"
   },
   "outputs": [
    {
     "data": {
      "text/html": [
       "\n",
       "  <div id=\"df-f900929b-bad3-45b0-bc92-59ce623d1507\">\n",
       "    <div class=\"colab-df-container\">\n",
       "      <div>\n",
       "<style scoped>\n",
       "    .dataframe tbody tr th:only-of-type {\n",
       "        vertical-align: middle;\n",
       "    }\n",
       "\n",
       "    .dataframe tbody tr th {\n",
       "        vertical-align: top;\n",
       "    }\n",
       "\n",
       "    .dataframe thead th {\n",
       "        text-align: right;\n",
       "    }\n",
       "</style>\n",
       "<table border=\"1\" class=\"dataframe\">\n",
       "  <thead>\n",
       "    <tr style=\"text-align: right;\">\n",
       "      <th></th>\n",
       "      <th>MAL_ID</th>\n",
       "      <th>Name</th>\n",
       "      <th>Genres</th>\n",
       "      <th>synopsis</th>\n",
       "      <th>Type</th>\n",
       "      <th>Source</th>\n",
       "      <th>Year</th>\n",
       "    </tr>\n",
       "  </thead>\n",
       "  <tbody>\n",
       "    <tr>\n",
       "      <th>0</th>\n",
       "      <td>1</td>\n",
       "      <td>Cowboy Bebop</td>\n",
       "      <td>Action,Adventure,Comedy,Drama,Sci-Fi,Space</td>\n",
       "      <td>In the year 2071, humanity has colonized sever...</td>\n",
       "      <td>TV</td>\n",
       "      <td>Original</td>\n",
       "      <td>1990.0</td>\n",
       "    </tr>\n",
       "    <tr>\n",
       "      <th>1</th>\n",
       "      <td>5</td>\n",
       "      <td>Cowboy Bebop: Tengoku no Tobira</td>\n",
       "      <td>Action,Drama,Mystery,Sci-Fi,Space</td>\n",
       "      <td>other day, another bounty—such is the life of ...</td>\n",
       "      <td>Movie</td>\n",
       "      <td>Original</td>\n",
       "      <td>2000.0</td>\n",
       "    </tr>\n",
       "    <tr>\n",
       "      <th>2</th>\n",
       "      <td>6</td>\n",
       "      <td>Trigun</td>\n",
       "      <td>Action,Sci-Fi,Adventure,Comedy,Drama,Shounen</td>\n",
       "      <td>Vash the Stampede is the man with a $$60,000,0...</td>\n",
       "      <td>TV</td>\n",
       "      <td>Manga</td>\n",
       "      <td>1990.0</td>\n",
       "    </tr>\n",
       "    <tr>\n",
       "      <th>3</th>\n",
       "      <td>7</td>\n",
       "      <td>Witch Hunter Robin</td>\n",
       "      <td>Action,Mystery,Police,Supernatural,Drama,Magic</td>\n",
       "      <td>ches are individuals with special powers like ...</td>\n",
       "      <td>TV</td>\n",
       "      <td>Original</td>\n",
       "      <td>2000.0</td>\n",
       "    </tr>\n",
       "    <tr>\n",
       "      <th>4</th>\n",
       "      <td>8</td>\n",
       "      <td>Bouken Ou Beet</td>\n",
       "      <td>Adventure,Fantasy,Shounen,Supernatural</td>\n",
       "      <td>It is the dark century and the people are suff...</td>\n",
       "      <td>TV</td>\n",
       "      <td>Manga</td>\n",
       "      <td>2000.0</td>\n",
       "    </tr>\n",
       "  </tbody>\n",
       "</table>\n",
       "</div>\n",
       "      <button class=\"colab-df-convert\" onclick=\"convertToInteractive('df-f900929b-bad3-45b0-bc92-59ce623d1507')\"\n",
       "              title=\"Convert this dataframe to an interactive table.\"\n",
       "              style=\"display:none;\">\n",
       "        \n",
       "  <svg xmlns=\"http://www.w3.org/2000/svg\" height=\"24px\"viewBox=\"0 0 24 24\"\n",
       "       width=\"24px\">\n",
       "    <path d=\"M0 0h24v24H0V0z\" fill=\"none\"/>\n",
       "    <path d=\"M18.56 5.44l.94 2.06.94-2.06 2.06-.94-2.06-.94-.94-2.06-.94 2.06-2.06.94zm-11 1L8.5 8.5l.94-2.06 2.06-.94-2.06-.94L8.5 2.5l-.94 2.06-2.06.94zm10 10l.94 2.06.94-2.06 2.06-.94-2.06-.94-.94-2.06-.94 2.06-2.06.94z\"/><path d=\"M17.41 7.96l-1.37-1.37c-.4-.4-.92-.59-1.43-.59-.52 0-1.04.2-1.43.59L10.3 9.45l-7.72 7.72c-.78.78-.78 2.05 0 2.83L4 21.41c.39.39.9.59 1.41.59.51 0 1.02-.2 1.41-.59l7.78-7.78 2.81-2.81c.8-.78.8-2.07 0-2.86zM5.41 20L4 18.59l7.72-7.72 1.47 1.35L5.41 20z\"/>\n",
       "  </svg>\n",
       "      </button>\n",
       "      \n",
       "  <style>\n",
       "    .colab-df-container {\n",
       "      display:flex;\n",
       "      flex-wrap:wrap;\n",
       "      gap: 12px;\n",
       "    }\n",
       "\n",
       "    .colab-df-convert {\n",
       "      background-color: #E8F0FE;\n",
       "      border: none;\n",
       "      border-radius: 50%;\n",
       "      cursor: pointer;\n",
       "      display: none;\n",
       "      fill: #1967D2;\n",
       "      height: 32px;\n",
       "      padding: 0 0 0 0;\n",
       "      width: 32px;\n",
       "    }\n",
       "\n",
       "    .colab-df-convert:hover {\n",
       "      background-color: #E2EBFA;\n",
       "      box-shadow: 0px 1px 2px rgba(60, 64, 67, 0.3), 0px 1px 3px 1px rgba(60, 64, 67, 0.15);\n",
       "      fill: #174EA6;\n",
       "    }\n",
       "\n",
       "    [theme=dark] .colab-df-convert {\n",
       "      background-color: #3B4455;\n",
       "      fill: #D2E3FC;\n",
       "    }\n",
       "\n",
       "    [theme=dark] .colab-df-convert:hover {\n",
       "      background-color: #434B5C;\n",
       "      box-shadow: 0px 1px 3px 1px rgba(0, 0, 0, 0.15);\n",
       "      filter: drop-shadow(0px 1px 2px rgba(0, 0, 0, 0.3));\n",
       "      fill: #FFFFFF;\n",
       "    }\n",
       "  </style>\n",
       "\n",
       "      <script>\n",
       "        const buttonEl =\n",
       "          document.querySelector('#df-f900929b-bad3-45b0-bc92-59ce623d1507 button.colab-df-convert');\n",
       "        buttonEl.style.display =\n",
       "          google.colab.kernel.accessAllowed ? 'block' : 'none';\n",
       "\n",
       "        async function convertToInteractive(key) {\n",
       "          const element = document.querySelector('#df-f900929b-bad3-45b0-bc92-59ce623d1507');\n",
       "          const dataTable =\n",
       "            await google.colab.kernel.invokeFunction('convertToInteractive',\n",
       "                                                     [key], {});\n",
       "          if (!dataTable) return;\n",
       "\n",
       "          const docLinkHtml = 'Like what you see? Visit the ' +\n",
       "            '<a target=\"_blank\" href=https://colab.research.google.com/notebooks/data_table.ipynb>data table notebook</a>'\n",
       "            + ' to learn more about interactive tables.';\n",
       "          element.innerHTML = '';\n",
       "          dataTable['output_type'] = 'display_data';\n",
       "          await google.colab.output.renderOutput(dataTable, element);\n",
       "          const docLink = document.createElement('div');\n",
       "          docLink.innerHTML = docLinkHtml;\n",
       "          element.appendChild(docLink);\n",
       "        }\n",
       "      </script>\n",
       "    </div>\n",
       "  </div>\n",
       "  "
      ],
      "text/plain": [
       "   MAL_ID                             Name  \\\n",
       "0       1                     Cowboy Bebop   \n",
       "1       5  Cowboy Bebop: Tengoku no Tobira   \n",
       "2       6                           Trigun   \n",
       "3       7               Witch Hunter Robin   \n",
       "4       8                   Bouken Ou Beet   \n",
       "\n",
       "                                           Genres  \\\n",
       "0      Action,Adventure,Comedy,Drama,Sci-Fi,Space   \n",
       "1               Action,Drama,Mystery,Sci-Fi,Space   \n",
       "2    Action,Sci-Fi,Adventure,Comedy,Drama,Shounen   \n",
       "3  Action,Mystery,Police,Supernatural,Drama,Magic   \n",
       "4          Adventure,Fantasy,Shounen,Supernatural   \n",
       "\n",
       "                                            synopsis   Type    Source    Year  \n",
       "0  In the year 2071, humanity has colonized sever...     TV  Original  1990.0  \n",
       "1  other day, another bounty—such is the life of ...  Movie  Original  2000.0  \n",
       "2  Vash the Stampede is the man with a $$60,000,0...     TV     Manga  1990.0  \n",
       "3  ches are individuals with special powers like ...     TV  Original  2000.0  \n",
       "4  It is the dark century and the people are suff...     TV     Manga  2000.0  "
      ]
     },
     "execution_count": 84,
     "metadata": {},
     "output_type": "execute_result"
    }
   ],
   "source": [
    "anime_df = pd.read_csv('drive/MyDrive/CUAI_Summer_2022_RecSys/data/fixed/anime_full.csv')\n",
    "anime_df.head()"
   ]
  },
  {
   "cell_type": "code",
   "execution_count": 85,
   "metadata": {
    "colab": {
     "base_uri": "https://localhost:8080/",
     "height": 363
    },
    "executionInfo": {
     "elapsed": 288,
     "status": "ok",
     "timestamp": 1659893667236,
     "user": {
      "displayName": "박정현",
      "userId": "00427218869401903378"
     },
     "user_tz": -540
    },
    "id": "NP_ZuCDqqGPp",
    "outputId": "21efe931-0318-40c2-ddac-de5fd7894911"
   },
   "outputs": [
    {
     "data": {
      "text/html": [
       "\n",
       "  <div id=\"df-a86e5d08-7673-43ee-98a3-91315f816b2e\">\n",
       "    <div class=\"colab-df-container\">\n",
       "      <div>\n",
       "<style scoped>\n",
       "    .dataframe tbody tr th:only-of-type {\n",
       "        vertical-align: middle;\n",
       "    }\n",
       "\n",
       "    .dataframe tbody tr th {\n",
       "        vertical-align: top;\n",
       "    }\n",
       "\n",
       "    .dataframe thead th {\n",
       "        text-align: right;\n",
       "    }\n",
       "</style>\n",
       "<table border=\"1\" class=\"dataframe\">\n",
       "  <thead>\n",
       "    <tr style=\"text-align: right;\">\n",
       "      <th></th>\n",
       "      <th>CharName</th>\n",
       "      <th>MAL_ID</th>\n",
       "      <th>Name</th>\n",
       "    </tr>\n",
       "  </thead>\n",
       "  <tbody>\n",
       "    <tr>\n",
       "      <th>0</th>\n",
       "      <td>Johan LIEBERT</td>\n",
       "      <td>19.0</td>\n",
       "      <td>Monster</td>\n",
       "    </tr>\n",
       "    <tr>\n",
       "      <th>1</th>\n",
       "      <td>Gakuhou ASANO</td>\n",
       "      <td>34389.0</td>\n",
       "      <td>Koro-sensei Quest!</td>\n",
       "    </tr>\n",
       "    <tr>\n",
       "      <th>2</th>\n",
       "      <td>Deishuu KAIKI</td>\n",
       "      <td>21855.0</td>\n",
       "      <td>Hanamonogatari</td>\n",
       "    </tr>\n",
       "    <tr>\n",
       "      <th>3</th>\n",
       "      <td>Seiya KANIE</td>\n",
       "      <td>22147.0</td>\n",
       "      <td>Amagi Brilliant Park</td>\n",
       "    </tr>\n",
       "    <tr>\n",
       "      <th>4</th>\n",
       "      <td>Tsukasa SHISHIOU</td>\n",
       "      <td>38691.0</td>\n",
       "      <td>Dr. Stone</td>\n",
       "    </tr>\n",
       "    <tr>\n",
       "      <th>5</th>\n",
       "      <td>Shen Qing Qiu</td>\n",
       "      <td>38990.0</td>\n",
       "      <td>Chuan Shu Zijiu Zhinan</td>\n",
       "    </tr>\n",
       "    <tr>\n",
       "      <th>6</th>\n",
       "      <td>Akushima</td>\n",
       "      <td>23333.0</td>\n",
       "      <td>DRAMAtical Murder</td>\n",
       "    </tr>\n",
       "    <tr>\n",
       "      <th>7</th>\n",
       "      <td>Ichiya SUZAKU</td>\n",
       "      <td>32360.0</td>\n",
       "      <td>Qualidea Code</td>\n",
       "    </tr>\n",
       "    <tr>\n",
       "      <th>8</th>\n",
       "      <td>Fukusuke HIKYAKUYA</td>\n",
       "      <td>20.0</td>\n",
       "      <td>Naruto</td>\n",
       "    </tr>\n",
       "    <tr>\n",
       "      <th>9</th>\n",
       "      <td>Yu Wenzhou</td>\n",
       "      <td>33926.0</td>\n",
       "      <td>Quanzhi Gaoshou</td>\n",
       "    </tr>\n",
       "  </tbody>\n",
       "</table>\n",
       "</div>\n",
       "      <button class=\"colab-df-convert\" onclick=\"convertToInteractive('df-a86e5d08-7673-43ee-98a3-91315f816b2e')\"\n",
       "              title=\"Convert this dataframe to an interactive table.\"\n",
       "              style=\"display:none;\">\n",
       "        \n",
       "  <svg xmlns=\"http://www.w3.org/2000/svg\" height=\"24px\"viewBox=\"0 0 24 24\"\n",
       "       width=\"24px\">\n",
       "    <path d=\"M0 0h24v24H0V0z\" fill=\"none\"/>\n",
       "    <path d=\"M18.56 5.44l.94 2.06.94-2.06 2.06-.94-2.06-.94-.94-2.06-.94 2.06-2.06.94zm-11 1L8.5 8.5l.94-2.06 2.06-.94-2.06-.94L8.5 2.5l-.94 2.06-2.06.94zm10 10l.94 2.06.94-2.06 2.06-.94-2.06-.94-.94-2.06-.94 2.06-2.06.94z\"/><path d=\"M17.41 7.96l-1.37-1.37c-.4-.4-.92-.59-1.43-.59-.52 0-1.04.2-1.43.59L10.3 9.45l-7.72 7.72c-.78.78-.78 2.05 0 2.83L4 21.41c.39.39.9.59 1.41.59.51 0 1.02-.2 1.41-.59l7.78-7.78 2.81-2.81c.8-.78.8-2.07 0-2.86zM5.41 20L4 18.59l7.72-7.72 1.47 1.35L5.41 20z\"/>\n",
       "  </svg>\n",
       "      </button>\n",
       "      \n",
       "  <style>\n",
       "    .colab-df-container {\n",
       "      display:flex;\n",
       "      flex-wrap:wrap;\n",
       "      gap: 12px;\n",
       "    }\n",
       "\n",
       "    .colab-df-convert {\n",
       "      background-color: #E8F0FE;\n",
       "      border: none;\n",
       "      border-radius: 50%;\n",
       "      cursor: pointer;\n",
       "      display: none;\n",
       "      fill: #1967D2;\n",
       "      height: 32px;\n",
       "      padding: 0 0 0 0;\n",
       "      width: 32px;\n",
       "    }\n",
       "\n",
       "    .colab-df-convert:hover {\n",
       "      background-color: #E2EBFA;\n",
       "      box-shadow: 0px 1px 2px rgba(60, 64, 67, 0.3), 0px 1px 3px 1px rgba(60, 64, 67, 0.15);\n",
       "      fill: #174EA6;\n",
       "    }\n",
       "\n",
       "    [theme=dark] .colab-df-convert {\n",
       "      background-color: #3B4455;\n",
       "      fill: #D2E3FC;\n",
       "    }\n",
       "\n",
       "    [theme=dark] .colab-df-convert:hover {\n",
       "      background-color: #434B5C;\n",
       "      box-shadow: 0px 1px 3px 1px rgba(0, 0, 0, 0.15);\n",
       "      filter: drop-shadow(0px 1px 2px rgba(0, 0, 0, 0.3));\n",
       "      fill: #FFFFFF;\n",
       "    }\n",
       "  </style>\n",
       "\n",
       "      <script>\n",
       "        const buttonEl =\n",
       "          document.querySelector('#df-a86e5d08-7673-43ee-98a3-91315f816b2e button.colab-df-convert');\n",
       "        buttonEl.style.display =\n",
       "          google.colab.kernel.accessAllowed ? 'block' : 'none';\n",
       "\n",
       "        async function convertToInteractive(key) {\n",
       "          const element = document.querySelector('#df-a86e5d08-7673-43ee-98a3-91315f816b2e');\n",
       "          const dataTable =\n",
       "            await google.colab.kernel.invokeFunction('convertToInteractive',\n",
       "                                                     [key], {});\n",
       "          if (!dataTable) return;\n",
       "\n",
       "          const docLinkHtml = 'Like what you see? Visit the ' +\n",
       "            '<a target=\"_blank\" href=https://colab.research.google.com/notebooks/data_table.ipynb>data table notebook</a>'\n",
       "            + ' to learn more about interactive tables.';\n",
       "          element.innerHTML = '';\n",
       "          dataTable['output_type'] = 'display_data';\n",
       "          await google.colab.output.renderOutput(dataTable, element);\n",
       "          const docLink = document.createElement('div');\n",
       "          docLink.innerHTML = docLinkHtml;\n",
       "          element.appendChild(docLink);\n",
       "        }\n",
       "      </script>\n",
       "    </div>\n",
       "  </div>\n",
       "  "
      ],
      "text/plain": [
       "             CharName   MAL_ID                    Name\n",
       "0       Johan LIEBERT     19.0                 Monster\n",
       "1       Gakuhou ASANO  34389.0      Koro-sensei Quest!\n",
       "2       Deishuu KAIKI  21855.0          Hanamonogatari\n",
       "3         Seiya KANIE  22147.0    Amagi Brilliant Park\n",
       "4    Tsukasa SHISHIOU  38691.0               Dr. Stone\n",
       "5       Shen Qing Qiu  38990.0  Chuan Shu Zijiu Zhinan\n",
       "6            Akushima  23333.0       DRAMAtical Murder\n",
       "7       Ichiya SUZAKU  32360.0           Qualidea Code\n",
       "8  Fukusuke HIKYAKUYA     20.0                  Naruto\n",
       "9          Yu Wenzhou  33926.0         Quanzhi Gaoshou"
      ]
     },
     "execution_count": 85,
     "metadata": {},
     "output_type": "execute_result"
    }
   ],
   "source": [
    "# 캐릭터 추천 받기\n",
    "recommended_character = recommendations('Light YAGAMI')\n",
    "\n",
    "# 추천 받은 캐릭터의 전체 df 가져오기\n",
    "characters = characters[characters['CharName'].isin(recommended_character)]\n",
    "characters = characters[['CharName','MAL_ID']]\n",
    "\n",
    "# MAL_ID를 기준으로 characters_df, anime_df 병합\n",
    "merge = pd.merge(characters, anime_df[['MAL_ID', 'Name']], on = 'MAL_ID', how = 'inner')\n",
    "merge"
   ]
  },
  {
   "cell_type": "code",
   "execution_count": 86,
   "metadata": {
    "colab": {
     "base_uri": "https://localhost:8080/",
     "height": 399
    },
    "executionInfo": {
     "elapsed": 275,
     "status": "ok",
     "timestamp": 1659893685951,
     "user": {
      "displayName": "박정현",
      "userId": "00427218869401903378"
     },
     "user_tz": -540
    },
    "id": "gnvQv-kqIngU",
    "outputId": "df876b36-a7f4-41f2-e422-cba46e2f142d"
   },
   "outputs": [
    {
     "name": "stderr",
     "output_type": "stream",
     "text": [
      "/usr/local/lib/python3.7/dist-packages/ipykernel_launcher.py:5: FutureWarning: In a future version of pandas all arguments of DataFrame.drop except for the argument 'labels' will be keyword-only\n",
      "  \"\"\"\n"
     ]
    },
    {
     "data": {
      "text/html": [
       "\n",
       "  <div id=\"df-27a6324b-f4ba-49e0-9545-577fa114a6b6\">\n",
       "    <div class=\"colab-df-container\">\n",
       "      <div>\n",
       "<style scoped>\n",
       "    .dataframe tbody tr th:only-of-type {\n",
       "        vertical-align: middle;\n",
       "    }\n",
       "\n",
       "    .dataframe tbody tr th {\n",
       "        vertical-align: top;\n",
       "    }\n",
       "\n",
       "    .dataframe thead th {\n",
       "        text-align: right;\n",
       "    }\n",
       "</style>\n",
       "<table border=\"1\" class=\"dataframe\">\n",
       "  <thead>\n",
       "    <tr style=\"text-align: right;\">\n",
       "      <th></th>\n",
       "      <th>CharName</th>\n",
       "      <th>MAL_ID</th>\n",
       "      <th>Name</th>\n",
       "    </tr>\n",
       "  </thead>\n",
       "  <tbody>\n",
       "    <tr>\n",
       "      <th>2</th>\n",
       "      <td>Deishuu KAIKI</td>\n",
       "      <td>21855.0</td>\n",
       "      <td>Hanamonogatari</td>\n",
       "    </tr>\n",
       "    <tr>\n",
       "      <th>1</th>\n",
       "      <td>Gakuhou ASANO</td>\n",
       "      <td>34389.0</td>\n",
       "      <td>Koro-sensei Quest!</td>\n",
       "    </tr>\n",
       "    <tr>\n",
       "      <th>4</th>\n",
       "      <td>Tsukasa SHISHIOU</td>\n",
       "      <td>38691.0</td>\n",
       "      <td>Dr. Stone</td>\n",
       "    </tr>\n",
       "    <tr>\n",
       "      <th>3</th>\n",
       "      <td>Seiya KANIE</td>\n",
       "      <td>22147.0</td>\n",
       "      <td>Amagi Brilliant Park</td>\n",
       "    </tr>\n",
       "    <tr>\n",
       "      <th>0</th>\n",
       "      <td>Johan LIEBERT</td>\n",
       "      <td>19.0</td>\n",
       "      <td>Monster</td>\n",
       "    </tr>\n",
       "    <tr>\n",
       "      <th>5</th>\n",
       "      <td>Shen Qing Qiu</td>\n",
       "      <td>38990.0</td>\n",
       "      <td>Chuan Shu Zijiu Zhinan</td>\n",
       "    </tr>\n",
       "    <tr>\n",
       "      <th>9</th>\n",
       "      <td>Yu Wenzhou</td>\n",
       "      <td>33926.0</td>\n",
       "      <td>Quanzhi Gaoshou</td>\n",
       "    </tr>\n",
       "    <tr>\n",
       "      <th>6</th>\n",
       "      <td>Akushima</td>\n",
       "      <td>23333.0</td>\n",
       "      <td>DRAMAtical Murder</td>\n",
       "    </tr>\n",
       "    <tr>\n",
       "      <th>8</th>\n",
       "      <td>Fukusuke HIKYAKUYA</td>\n",
       "      <td>20.0</td>\n",
       "      <td>Naruto</td>\n",
       "    </tr>\n",
       "    <tr>\n",
       "      <th>7</th>\n",
       "      <td>Ichiya SUZAKU</td>\n",
       "      <td>32360.0</td>\n",
       "      <td>Qualidea Code</td>\n",
       "    </tr>\n",
       "  </tbody>\n",
       "</table>\n",
       "</div>\n",
       "      <button class=\"colab-df-convert\" onclick=\"convertToInteractive('df-27a6324b-f4ba-49e0-9545-577fa114a6b6')\"\n",
       "              title=\"Convert this dataframe to an interactive table.\"\n",
       "              style=\"display:none;\">\n",
       "        \n",
       "  <svg xmlns=\"http://www.w3.org/2000/svg\" height=\"24px\"viewBox=\"0 0 24 24\"\n",
       "       width=\"24px\">\n",
       "    <path d=\"M0 0h24v24H0V0z\" fill=\"none\"/>\n",
       "    <path d=\"M18.56 5.44l.94 2.06.94-2.06 2.06-.94-2.06-.94-.94-2.06-.94 2.06-2.06.94zm-11 1L8.5 8.5l.94-2.06 2.06-.94-2.06-.94L8.5 2.5l-.94 2.06-2.06.94zm10 10l.94 2.06.94-2.06 2.06-.94-2.06-.94-.94-2.06-.94 2.06-2.06.94z\"/><path d=\"M17.41 7.96l-1.37-1.37c-.4-.4-.92-.59-1.43-.59-.52 0-1.04.2-1.43.59L10.3 9.45l-7.72 7.72c-.78.78-.78 2.05 0 2.83L4 21.41c.39.39.9.59 1.41.59.51 0 1.02-.2 1.41-.59l7.78-7.78 2.81-2.81c.8-.78.8-2.07 0-2.86zM5.41 20L4 18.59l7.72-7.72 1.47 1.35L5.41 20z\"/>\n",
       "  </svg>\n",
       "      </button>\n",
       "      \n",
       "  <style>\n",
       "    .colab-df-container {\n",
       "      display:flex;\n",
       "      flex-wrap:wrap;\n",
       "      gap: 12px;\n",
       "    }\n",
       "\n",
       "    .colab-df-convert {\n",
       "      background-color: #E8F0FE;\n",
       "      border: none;\n",
       "      border-radius: 50%;\n",
       "      cursor: pointer;\n",
       "      display: none;\n",
       "      fill: #1967D2;\n",
       "      height: 32px;\n",
       "      padding: 0 0 0 0;\n",
       "      width: 32px;\n",
       "    }\n",
       "\n",
       "    .colab-df-convert:hover {\n",
       "      background-color: #E2EBFA;\n",
       "      box-shadow: 0px 1px 2px rgba(60, 64, 67, 0.3), 0px 1px 3px 1px rgba(60, 64, 67, 0.15);\n",
       "      fill: #174EA6;\n",
       "    }\n",
       "\n",
       "    [theme=dark] .colab-df-convert {\n",
       "      background-color: #3B4455;\n",
       "      fill: #D2E3FC;\n",
       "    }\n",
       "\n",
       "    [theme=dark] .colab-df-convert:hover {\n",
       "      background-color: #434B5C;\n",
       "      box-shadow: 0px 1px 3px 1px rgba(0, 0, 0, 0.15);\n",
       "      filter: drop-shadow(0px 1px 2px rgba(0, 0, 0, 0.3));\n",
       "      fill: #FFFFFF;\n",
       "    }\n",
       "  </style>\n",
       "\n",
       "      <script>\n",
       "        const buttonEl =\n",
       "          document.querySelector('#df-27a6324b-f4ba-49e0-9545-577fa114a6b6 button.colab-df-convert');\n",
       "        buttonEl.style.display =\n",
       "          google.colab.kernel.accessAllowed ? 'block' : 'none';\n",
       "\n",
       "        async function convertToInteractive(key) {\n",
       "          const element = document.querySelector('#df-27a6324b-f4ba-49e0-9545-577fa114a6b6');\n",
       "          const dataTable =\n",
       "            await google.colab.kernel.invokeFunction('convertToInteractive',\n",
       "                                                     [key], {});\n",
       "          if (!dataTable) return;\n",
       "\n",
       "          const docLinkHtml = 'Like what you see? Visit the ' +\n",
       "            '<a target=\"_blank\" href=https://colab.research.google.com/notebooks/data_table.ipynb>data table notebook</a>'\n",
       "            + ' to learn more about interactive tables.';\n",
       "          element.innerHTML = '';\n",
       "          dataTable['output_type'] = 'display_data';\n",
       "          await google.colab.output.renderOutput(dataTable, element);\n",
       "          const docLink = document.createElement('div');\n",
       "          docLink.innerHTML = docLinkHtml;\n",
       "          element.appendChild(docLink);\n",
       "        }\n",
       "      </script>\n",
       "    </div>\n",
       "  </div>\n",
       "  "
      ],
      "text/plain": [
       "             CharName   MAL_ID                    Name\n",
       "2       Deishuu KAIKI  21855.0          Hanamonogatari\n",
       "1       Gakuhou ASANO  34389.0      Koro-sensei Quest!\n",
       "4    Tsukasa SHISHIOU  38691.0               Dr. Stone\n",
       "3         Seiya KANIE  22147.0    Amagi Brilliant Park\n",
       "0       Johan LIEBERT     19.0                 Monster\n",
       "5       Shen Qing Qiu  38990.0  Chuan Shu Zijiu Zhinan\n",
       "9          Yu Wenzhou  33926.0         Quanzhi Gaoshou\n",
       "6            Akushima  23333.0       DRAMAtical Murder\n",
       "8  Fukusuke HIKYAKUYA     20.0                  Naruto\n",
       "7       Ichiya SUZAKU  32360.0           Qualidea Code"
      ]
     },
     "execution_count": 86,
     "metadata": {},
     "output_type": "execute_result"
    }
   ],
   "source": [
    "# 유사도 탑10 순서로 merge df 정렬\n",
    "sorterIndex = dict(zip(recommended_character, range(len(recommended_character)))) # 정렬을 위한 dictionary 생성\n",
    "merge['sorter'] = merge['CharName'].map(sorterIndex) # 해당 dictionary를 이용해 정렬을 위한 열('sorter') 생성\n",
    "merge.sort_values('sorter',inplace=True) # sorter를 기준으로 정렬\n",
    "merge.drop('sorter', 1, inplace = True) # sorter 열 삭제\n",
    "merge"
   ]
  },
  {
   "cell_type": "code",
   "execution_count": 87,
   "metadata": {
    "colab": {
     "base_uri": "https://localhost:8080/"
    },
    "executionInfo": {
     "elapsed": 264,
     "status": "ok",
     "timestamp": 1659893698243,
     "user": {
      "displayName": "박정현",
      "userId": "00427218869401903378"
     },
     "user_tz": -540
    },
    "id": "mjCQhDgdKDiz",
    "outputId": "3715456e-d012-4e55-a426-20f28e1c9df2"
   },
   "outputs": [
    {
     "name": "stdout",
     "output_type": "stream",
     "text": [
      "Hanamonogatari\n",
      "Koro-sensei Quest!\n",
      "Dr. Stone\n",
      "Amagi Brilliant Park\n",
      "Monster\n",
      "Chuan Shu Zijiu Zhinan\n",
      "Quanzhi Gaoshou\n",
      "DRAMAtical Murder\n",
      "Naruto\n",
      "Qualidea Code\n"
     ]
    }
   ],
   "source": [
    "for anime in merge['Name']:\n",
    "    print(anime)"
   ]
  }
 ],
 "metadata": {
  "colab": {
   "authorship_tag": "ABX9TyPqZo8BYos3gu4CJlf3le3A",
   "collapsed_sections": [],
   "mount_file_id": "13Licxzt3xjFXGcoyk3U7Vj2wlMbw9Zbi",
   "name": "content_based_without_description.ipynb",
   "provenance": [
    {
     "file_id": "1fQ83WckUljYT-YUQmNhbaxor4DuDH7jk",
     "timestamp": 1659885036539
    }
   ]
  },
  "kernelspec": {
   "display_name": "Python 3 (ipykernel)",
   "language": "python",
   "name": "python3"
  },
  "language_info": {
   "codemirror_mode": {
    "name": "ipython",
    "version": 3
   },
   "file_extension": ".py",
   "mimetype": "text/x-python",
   "name": "python",
   "nbconvert_exporter": "python",
   "pygments_lexer": "ipython3",
   "version": "3.9.10"
  }
 },
 "nbformat": 4,
 "nbformat_minor": 1
}
