{
 "cells": [
  {
   "cell_type": "code",
   "execution_count": 24,
   "metadata": {
    "scrolled": true
   },
   "outputs": [
    {
     "name": "stdout",
     "output_type": "stream",
     "text": [
      "Requirement already satisfied: plotly in /home/cuai5th/anaconda3/envs/chanho/lib/python3.6/site-packages (5.9.0)\r\n",
      "Requirement already satisfied: tenacity>=6.2.0 in /home/cuai5th/anaconda3/envs/chanho/lib/python3.6/site-packages (from plotly) (8.0.1)\r\n"
     ]
    }
   ],
   "source": [
    "!pip install plotly"
   ]
  },
  {
   "cell_type": "code",
   "execution_count": 4,
   "metadata": {},
   "outputs": [],
   "source": [
    "import numpy as np\n",
    "import pandas as pd\n",
    "\n",
    "# 필요한 Surprise 알고리즘 불러오기\n",
    "from surprise import SVD, SVDpp, SlopeOne, NMF, NormalPredictor, KNNBasic, KNNBaseline, KNNWithMeans, KNNWithZScore, BaselineOnly, CoClustering\n",
    "from surprise import Dataset\n",
    "from surprise import accuracy\n",
    "from surprise import Reader\n",
    "from surprise.model_selection import cross_validate\n",
    "from surprise.model_selection import train_test_split\n",
    "from surprise.model_selection import GridSearchCV"
   ]
  },
  {
   "cell_type": "markdown",
   "metadata": {},
   "source": [
    "# DATA LOAD"
   ]
  },
  {
   "cell_type": "code",
   "execution_count": 5,
   "metadata": {},
   "outputs": [],
   "source": [
    "ratings=pd.read_csv(\"rating_complete.csv\")"
   ]
  },
  {
   "cell_type": "code",
   "execution_count": 6,
   "metadata": {},
   "outputs": [],
   "source": [
    "#ratings.to_csv(\"ratings_processed.csv\", index=False, header=False)"
   ]
  },
  {
   "cell_type": "code",
   "execution_count": 7,
   "metadata": {},
   "outputs": [],
   "source": [
    "#ratings=pd.read_csv(\"ratings_processed.csv\")"
   ]
  },
  {
   "cell_type": "code",
   "execution_count": 8,
   "metadata": {},
   "outputs": [],
   "source": [
    "anime=pd.read_csv(\"anime_full.csv\")"
   ]
  },
  {
   "cell_type": "code",
   "execution_count": 9,
   "metadata": {},
   "outputs": [
    {
     "data": {
      "text/html": [
       "<div>\n",
       "<style scoped>\n",
       "    .dataframe tbody tr th:only-of-type {\n",
       "        vertical-align: middle;\n",
       "    }\n",
       "\n",
       "    .dataframe tbody tr th {\n",
       "        vertical-align: top;\n",
       "    }\n",
       "\n",
       "    .dataframe thead th {\n",
       "        text-align: right;\n",
       "    }\n",
       "</style>\n",
       "<table border=\"1\" class=\"dataframe\">\n",
       "  <thead>\n",
       "    <tr style=\"text-align: right;\">\n",
       "      <th></th>\n",
       "      <th>user_id</th>\n",
       "      <th>anime_id</th>\n",
       "      <th>rating</th>\n",
       "    </tr>\n",
       "  </thead>\n",
       "  <tbody>\n",
       "    <tr>\n",
       "      <th>0</th>\n",
       "      <td>0</td>\n",
       "      <td>430</td>\n",
       "      <td>9</td>\n",
       "    </tr>\n",
       "    <tr>\n",
       "      <th>1</th>\n",
       "      <td>0</td>\n",
       "      <td>1004</td>\n",
       "      <td>5</td>\n",
       "    </tr>\n",
       "    <tr>\n",
       "      <th>2</th>\n",
       "      <td>0</td>\n",
       "      <td>3010</td>\n",
       "      <td>7</td>\n",
       "    </tr>\n",
       "    <tr>\n",
       "      <th>3</th>\n",
       "      <td>0</td>\n",
       "      <td>570</td>\n",
       "      <td>7</td>\n",
       "    </tr>\n",
       "    <tr>\n",
       "      <th>4</th>\n",
       "      <td>0</td>\n",
       "      <td>2762</td>\n",
       "      <td>9</td>\n",
       "    </tr>\n",
       "  </tbody>\n",
       "</table>\n",
       "</div>"
      ],
      "text/plain": [
       "   user_id  anime_id  rating\n",
       "0        0       430       9\n",
       "1        0      1004       5\n",
       "2        0      3010       7\n",
       "3        0       570       7\n",
       "4        0      2762       9"
      ]
     },
     "execution_count": 9,
     "metadata": {},
     "output_type": "execute_result"
    }
   ],
   "source": [
    "ratings.head()"
   ]
  },
  {
   "cell_type": "markdown",
   "metadata": {},
   "source": [
    "# DATA  PREPROCESSING"
   ]
  },
  {
   "cell_type": "code",
   "execution_count": 21,
   "metadata": {},
   "outputs": [
    {
     "data": {
      "text/html": [
       "<div>\n",
       "<style scoped>\n",
       "    .dataframe tbody tr th:only-of-type {\n",
       "        vertical-align: middle;\n",
       "    }\n",
       "\n",
       "    .dataframe tbody tr th {\n",
       "        vertical-align: top;\n",
       "    }\n",
       "\n",
       "    .dataframe thead th {\n",
       "        text-align: right;\n",
       "    }\n",
       "</style>\n",
       "<table border=\"1\" class=\"dataframe\">\n",
       "  <thead>\n",
       "    <tr style=\"text-align: right;\">\n",
       "      <th></th>\n",
       "      <th>user_id</th>\n",
       "      <th>rating</th>\n",
       "    </tr>\n",
       "  </thead>\n",
       "  <tbody>\n",
       "    <tr>\n",
       "      <th>165818</th>\n",
       "      <td>189037</td>\n",
       "      <td>15455</td>\n",
       "    </tr>\n",
       "    <tr>\n",
       "      <th>142622</th>\n",
       "      <td>162615</td>\n",
       "      <td>14864</td>\n",
       "    </tr>\n",
       "    <tr>\n",
       "      <th>59682</th>\n",
       "      <td>68042</td>\n",
       "      <td>13462</td>\n",
       "    </tr>\n",
       "    <tr>\n",
       "      <th>249092</th>\n",
       "      <td>283786</td>\n",
       "      <td>12778</td>\n",
       "    </tr>\n",
       "    <tr>\n",
       "      <th>227994</th>\n",
       "      <td>259790</td>\n",
       "      <td>9996</td>\n",
       "    </tr>\n",
       "    <tr>\n",
       "      <th>...</th>\n",
       "      <td>...</td>\n",
       "      <td>...</td>\n",
       "    </tr>\n",
       "    <tr>\n",
       "      <th>176586</th>\n",
       "      <td>201316</td>\n",
       "      <td>1</td>\n",
       "    </tr>\n",
       "    <tr>\n",
       "      <th>176574</th>\n",
       "      <td>201300</td>\n",
       "      <td>1</td>\n",
       "    </tr>\n",
       "    <tr>\n",
       "      <th>85501</th>\n",
       "      <td>97555</td>\n",
       "      <td>1</td>\n",
       "    </tr>\n",
       "    <tr>\n",
       "      <th>176568</th>\n",
       "      <td>201293</td>\n",
       "      <td>1</td>\n",
       "    </tr>\n",
       "    <tr>\n",
       "      <th>120527</th>\n",
       "      <td>137466</td>\n",
       "      <td>1</td>\n",
       "    </tr>\n",
       "  </tbody>\n",
       "</table>\n",
       "<p>310059 rows × 2 columns</p>\n",
       "</div>"
      ],
      "text/plain": [
       "        user_id  rating\n",
       "165818   189037   15455\n",
       "142622   162615   14864\n",
       "59682     68042   13462\n",
       "249092   283786   12778\n",
       "227994   259790    9996\n",
       "...         ...     ...\n",
       "176586   201316       1\n",
       "176574   201300       1\n",
       "85501     97555       1\n",
       "176568   201293       1\n",
       "120527   137466       1\n",
       "\n",
       "[310059 rows x 2 columns]"
      ]
     },
     "execution_count": 21,
     "metadata": {},
     "output_type": "execute_result"
    }
   ],
   "source": [
    "ratings.groupby('user_id')['rating'].count().reset_index().sort_values('rating',ascending=False)"
   ]
  },
  {
   "cell_type": "code",
   "execution_count": 22,
   "metadata": {},
   "outputs": [
    {
     "data": {
      "text/html": [
       "<div>\n",
       "<style scoped>\n",
       "    .dataframe tbody tr th:only-of-type {\n",
       "        vertical-align: middle;\n",
       "    }\n",
       "\n",
       "    .dataframe tbody tr th {\n",
       "        vertical-align: top;\n",
       "    }\n",
       "\n",
       "    .dataframe thead th {\n",
       "        text-align: right;\n",
       "    }\n",
       "</style>\n",
       "<table border=\"1\" class=\"dataframe\">\n",
       "  <thead>\n",
       "    <tr style=\"text-align: right;\">\n",
       "      <th></th>\n",
       "      <th>anime_id</th>\n",
       "      <th>rating</th>\n",
       "    </tr>\n",
       "  </thead>\n",
       "  <tbody>\n",
       "    <tr>\n",
       "      <th>1390</th>\n",
       "      <td>1535</td>\n",
       "      <td>182375</td>\n",
       "    </tr>\n",
       "    <tr>\n",
       "      <th>7437</th>\n",
       "      <td>16498</td>\n",
       "      <td>169794</td>\n",
       "    </tr>\n",
       "    <tr>\n",
       "      <th>6603</th>\n",
       "      <td>11757</td>\n",
       "      <td>161192</td>\n",
       "    </tr>\n",
       "    <tr>\n",
       "      <th>4629</th>\n",
       "      <td>6547</td>\n",
       "      <td>141127</td>\n",
       "    </tr>\n",
       "    <tr>\n",
       "      <th>10420</th>\n",
       "      <td>30276</td>\n",
       "      <td>138924</td>\n",
       "    </tr>\n",
       "    <tr>\n",
       "      <th>...</th>\n",
       "      <td>...</td>\n",
       "      <td>...</td>\n",
       "    </tr>\n",
       "    <tr>\n",
       "      <th>12799</th>\n",
       "      <td>35153</td>\n",
       "      <td>1</td>\n",
       "    </tr>\n",
       "    <tr>\n",
       "      <th>16559</th>\n",
       "      <td>42465</td>\n",
       "      <td>1</td>\n",
       "    </tr>\n",
       "    <tr>\n",
       "      <th>16643</th>\n",
       "      <td>42757</td>\n",
       "      <td>1</td>\n",
       "    </tr>\n",
       "    <tr>\n",
       "      <th>15509</th>\n",
       "      <td>39627</td>\n",
       "      <td>1</td>\n",
       "    </tr>\n",
       "    <tr>\n",
       "      <th>15920</th>\n",
       "      <td>40471</td>\n",
       "      <td>1</td>\n",
       "    </tr>\n",
       "  </tbody>\n",
       "</table>\n",
       "<p>16872 rows × 2 columns</p>\n",
       "</div>"
      ],
      "text/plain": [
       "       anime_id  rating\n",
       "1390       1535  182375\n",
       "7437      16498  169794\n",
       "6603      11757  161192\n",
       "4629       6547  141127\n",
       "10420     30276  138924\n",
       "...         ...     ...\n",
       "12799     35153       1\n",
       "16559     42465       1\n",
       "16643     42757       1\n",
       "15509     39627       1\n",
       "15920     40471       1\n",
       "\n",
       "[16872 rows x 2 columns]"
      ]
     },
     "execution_count": 22,
     "metadata": {},
     "output_type": "execute_result"
    }
   ],
   "source": [
    "ratings.groupby('anime_id')['rating'].count().reset_index().sort_values('rating',ascending=False)"
   ]
  },
  {
   "cell_type": "code",
   "execution_count": 10,
   "metadata": {},
   "outputs": [
    {
     "name": "stdout",
     "output_type": "stream",
     "text": [
      "The original data frame shape:\t(57633278, 3)\n",
      "The new data frame shape:\t(57632002, 3)\n"
     ]
    }
   ],
   "source": [
    "min_anime_ratings = 5\n",
    "filter_animes = ratings['anime_id'].value_counts() >= min_anime_ratings\n",
    "filter_animes = filter_animes[filter_animes].index.tolist()\n",
    "\n",
    "ratings_new = ratings[ratings['anime_id'].isin(filter_animes)]\n",
    "print('The original data frame shape:\\t{}'.format(ratings.shape))\n",
    "print('The new data frame shape:\\t{}'.format(ratings_new.shape))"
   ]
  },
  {
   "cell_type": "code",
   "execution_count": 11,
   "metadata": {},
   "outputs": [
    {
     "name": "stdout",
     "output_type": "stream",
     "text": [
      "The original data frame shape:\t(57632002, 3)\n",
      "The new data frame shape:\t(57596151, 3)\n"
     ]
    }
   ],
   "source": [
    "min_user_ratings = 5\n",
    "filter_users = ratings_new['user_id'].value_counts() >= min_user_ratings\n",
    "filter_users = filter_users[filter_users].index.tolist()\n",
    "\n",
    "ratings_new2 = ratings_new[ratings_new['user_id'].isin(filter_users)]\n",
    "print('The original data frame shape:\\t{}'.format(ratings_new.shape))\n",
    "print('The new data frame shape:\\t{}'.format(ratings_new2.shape))"
   ]
  },
  {
   "cell_type": "code",
   "execution_count": 25,
   "metadata": {},
   "outputs": [
    {
     "data": {
      "text/html": [
       "<div>\n",
       "<style scoped>\n",
       "    .dataframe tbody tr th:only-of-type {\n",
       "        vertical-align: middle;\n",
       "    }\n",
       "\n",
       "    .dataframe tbody tr th {\n",
       "        vertical-align: top;\n",
       "    }\n",
       "\n",
       "    .dataframe thead th {\n",
       "        text-align: right;\n",
       "    }\n",
       "</style>\n",
       "<table border=\"1\" class=\"dataframe\">\n",
       "  <thead>\n",
       "    <tr style=\"text-align: right;\">\n",
       "      <th></th>\n",
       "      <th>user_id</th>\n",
       "      <th>rating</th>\n",
       "    </tr>\n",
       "  </thead>\n",
       "  <tbody>\n",
       "    <tr>\n",
       "      <th>157179</th>\n",
       "      <td>189037</td>\n",
       "      <td>15193</td>\n",
       "    </tr>\n",
       "    <tr>\n",
       "      <th>135171</th>\n",
       "      <td>162615</td>\n",
       "      <td>14607</td>\n",
       "    </tr>\n",
       "    <tr>\n",
       "      <th>56584</th>\n",
       "      <td>68042</td>\n",
       "      <td>13408</td>\n",
       "    </tr>\n",
       "    <tr>\n",
       "      <th>236116</th>\n",
       "      <td>283786</td>\n",
       "      <td>12722</td>\n",
       "    </tr>\n",
       "    <tr>\n",
       "      <th>216098</th>\n",
       "      <td>259790</td>\n",
       "      <td>9989</td>\n",
       "    </tr>\n",
       "    <tr>\n",
       "      <th>...</th>\n",
       "      <td>...</td>\n",
       "      <td>...</td>\n",
       "    </tr>\n",
       "    <tr>\n",
       "      <th>75643</th>\n",
       "      <td>91058</td>\n",
       "      <td>5</td>\n",
       "    </tr>\n",
       "    <tr>\n",
       "      <th>191194</th>\n",
       "      <td>229874</td>\n",
       "      <td>5</td>\n",
       "    </tr>\n",
       "    <tr>\n",
       "      <th>75760</th>\n",
       "      <td>91186</td>\n",
       "      <td>5</td>\n",
       "    </tr>\n",
       "    <tr>\n",
       "      <th>75845</th>\n",
       "      <td>91288</td>\n",
       "      <td>5</td>\n",
       "    </tr>\n",
       "    <tr>\n",
       "      <th>193845</th>\n",
       "      <td>233047</td>\n",
       "      <td>5</td>\n",
       "    </tr>\n",
       "  </tbody>\n",
       "</table>\n",
       "<p>293842 rows × 2 columns</p>\n",
       "</div>"
      ],
      "text/plain": [
       "        user_id  rating\n",
       "157179   189037   15193\n",
       "135171   162615   14607\n",
       "56584     68042   13408\n",
       "236116   283786   12722\n",
       "216098   259790    9989\n",
       "...         ...     ...\n",
       "75643     91058       5\n",
       "191194   229874       5\n",
       "75760     91186       5\n",
       "75845     91288       5\n",
       "193845   233047       5\n",
       "\n",
       "[293842 rows x 2 columns]"
      ]
     },
     "execution_count": 25,
     "metadata": {},
     "output_type": "execute_result"
    }
   ],
   "source": [
    "ratings_new2.groupby('user_id')['rating'].count().reset_index().sort_values('rating',ascending=False)"
   ]
  },
  {
   "cell_type": "code",
   "execution_count": 26,
   "metadata": {},
   "outputs": [
    {
     "data": {
      "text/html": [
       "<div>\n",
       "<style scoped>\n",
       "    .dataframe tbody tr th:only-of-type {\n",
       "        vertical-align: middle;\n",
       "    }\n",
       "\n",
       "    .dataframe tbody tr th {\n",
       "        vertical-align: top;\n",
       "    }\n",
       "\n",
       "    .dataframe thead th {\n",
       "        text-align: right;\n",
       "    }\n",
       "</style>\n",
       "<table border=\"1\" class=\"dataframe\">\n",
       "  <thead>\n",
       "    <tr style=\"text-align: right;\">\n",
       "      <th></th>\n",
       "      <th>anime_id</th>\n",
       "      <th>rating</th>\n",
       "    </tr>\n",
       "  </thead>\n",
       "  <tbody>\n",
       "    <tr>\n",
       "      <th>1389</th>\n",
       "      <td>1535</td>\n",
       "      <td>181300</td>\n",
       "    </tr>\n",
       "    <tr>\n",
       "      <th>7435</th>\n",
       "      <td>16498</td>\n",
       "      <td>169112</td>\n",
       "    </tr>\n",
       "    <tr>\n",
       "      <th>6602</th>\n",
       "      <td>11757</td>\n",
       "      <td>160623</td>\n",
       "    </tr>\n",
       "    <tr>\n",
       "      <th>4628</th>\n",
       "      <td>6547</td>\n",
       "      <td>140823</td>\n",
       "    </tr>\n",
       "    <tr>\n",
       "      <th>10364</th>\n",
       "      <td>30276</td>\n",
       "      <td>138678</td>\n",
       "    </tr>\n",
       "    <tr>\n",
       "      <th>...</th>\n",
       "      <td>...</td>\n",
       "      <td>...</td>\n",
       "    </tr>\n",
       "    <tr>\n",
       "      <th>15115</th>\n",
       "      <td>39455</td>\n",
       "      <td>5</td>\n",
       "    </tr>\n",
       "    <tr>\n",
       "      <th>9730</th>\n",
       "      <td>28485</td>\n",
       "      <td>5</td>\n",
       "    </tr>\n",
       "    <tr>\n",
       "      <th>8155</th>\n",
       "      <td>19907</td>\n",
       "      <td>5</td>\n",
       "    </tr>\n",
       "    <tr>\n",
       "      <th>9491</th>\n",
       "      <td>26321</td>\n",
       "      <td>5</td>\n",
       "    </tr>\n",
       "    <tr>\n",
       "      <th>8976</th>\n",
       "      <td>23727</td>\n",
       "      <td>5</td>\n",
       "    </tr>\n",
       "  </tbody>\n",
       "</table>\n",
       "<p>16424 rows × 2 columns</p>\n",
       "</div>"
      ],
      "text/plain": [
       "       anime_id  rating\n",
       "1389       1535  181300\n",
       "7435      16498  169112\n",
       "6602      11757  160623\n",
       "4628       6547  140823\n",
       "10364     30276  138678\n",
       "...         ...     ...\n",
       "15115     39455       5\n",
       "9730      28485       5\n",
       "8155      19907       5\n",
       "9491      26321       5\n",
       "8976      23727       5\n",
       "\n",
       "[16424 rows x 2 columns]"
      ]
     },
     "execution_count": 26,
     "metadata": {},
     "output_type": "execute_result"
    }
   ],
   "source": [
    "ratings_new2.groupby('anime_id')['rating'].count().reset_index().sort_values('rating',ascending=False)"
   ]
  },
  {
   "cell_type": "code",
   "execution_count": 27,
   "metadata": {},
   "outputs": [
    {
     "name": "stdout",
     "output_type": "stream",
     "text": [
      "(기존 애니메이션 편수:  16872 )  -  (필터링 하고 애니메이션 편수:  16424 )  =  448\n"
     ]
    }
   ],
   "source": [
    "print('(기존 애니메이션 편수: ',len(set(ratings['anime_id'])),')', ' - ', '(필터링 하고 애니메이션 편수: ',len(set(ratings_new2['anime_id'])),')', ' = ',len(set(ratings['anime_id'])) - len(set(ratings_new2['anime_id'])))"
   ]
  },
  {
   "cell_type": "code",
   "execution_count": 28,
   "metadata": {},
   "outputs": [
    {
     "name": "stdout",
     "output_type": "stream",
     "text": [
      "(기존 사용자 수:  310059 )  -  (필터링 하고 난 사용자 수:  293842 )  =  16217\n"
     ]
    }
   ],
   "source": [
    "print('(기존 사용자 수: ',len(set(ratings['user_id'])),')', ' - ', '(필터링 하고 난 사용자 수: ',len(set(ratings_new2['user_id'])),')', ' = ',len(set(ratings['user_id'])) - len(set(ratings_new2['user_id'])))"
   ]
  },
  {
   "cell_type": "code",
   "execution_count": 32,
   "metadata": {},
   "outputs": [
    {
     "data": {
      "text/plain": [
       "57596151"
      ]
     },
     "execution_count": 32,
     "metadata": {},
     "output_type": "execute_result"
    }
   ],
   "source": [
    "len(ratings_new2)"
   ]
  },
  {
   "cell_type": "code",
   "execution_count": 26,
   "metadata": {},
   "outputs": [
    {
     "data": {
      "text/html": [
       "<div>\n",
       "<style scoped>\n",
       "    .dataframe tbody tr th:only-of-type {\n",
       "        vertical-align: middle;\n",
       "    }\n",
       "\n",
       "    .dataframe tbody tr th {\n",
       "        vertical-align: top;\n",
       "    }\n",
       "\n",
       "    .dataframe thead th {\n",
       "        text-align: right;\n",
       "    }\n",
       "</style>\n",
       "<table border=\"1\" class=\"dataframe\">\n",
       "  <thead>\n",
       "    <tr style=\"text-align: right;\">\n",
       "      <th></th>\n",
       "      <th>user_id</th>\n",
       "      <th>anime_id</th>\n",
       "      <th>rating</th>\n",
       "    </tr>\n",
       "  </thead>\n",
       "  <tbody>\n",
       "    <tr>\n",
       "      <th>0</th>\n",
       "      <td>0</td>\n",
       "      <td>430</td>\n",
       "      <td>9</td>\n",
       "    </tr>\n",
       "    <tr>\n",
       "      <th>1</th>\n",
       "      <td>0</td>\n",
       "      <td>1004</td>\n",
       "      <td>5</td>\n",
       "    </tr>\n",
       "    <tr>\n",
       "      <th>2</th>\n",
       "      <td>0</td>\n",
       "      <td>3010</td>\n",
       "      <td>7</td>\n",
       "    </tr>\n",
       "    <tr>\n",
       "      <th>3</th>\n",
       "      <td>0</td>\n",
       "      <td>570</td>\n",
       "      <td>7</td>\n",
       "    </tr>\n",
       "    <tr>\n",
       "      <th>4</th>\n",
       "      <td>0</td>\n",
       "      <td>2762</td>\n",
       "      <td>9</td>\n",
       "    </tr>\n",
       "    <tr>\n",
       "      <th>...</th>\n",
       "      <td>...</td>\n",
       "      <td>...</td>\n",
       "      <td>...</td>\n",
       "    </tr>\n",
       "    <tr>\n",
       "      <th>57596146</th>\n",
       "      <td>353404</td>\n",
       "      <td>502</td>\n",
       "      <td>8</td>\n",
       "    </tr>\n",
       "    <tr>\n",
       "      <th>57596147</th>\n",
       "      <td>353404</td>\n",
       "      <td>987</td>\n",
       "      <td>4</td>\n",
       "    </tr>\n",
       "    <tr>\n",
       "      <th>57596148</th>\n",
       "      <td>353404</td>\n",
       "      <td>225</td>\n",
       "      <td>8</td>\n",
       "    </tr>\n",
       "    <tr>\n",
       "      <th>57596149</th>\n",
       "      <td>353404</td>\n",
       "      <td>243</td>\n",
       "      <td>7</td>\n",
       "    </tr>\n",
       "    <tr>\n",
       "      <th>57596150</th>\n",
       "      <td>353404</td>\n",
       "      <td>896</td>\n",
       "      <td>7</td>\n",
       "    </tr>\n",
       "  </tbody>\n",
       "</table>\n",
       "<p>57596151 rows × 3 columns</p>\n",
       "</div>"
      ],
      "text/plain": [
       "          user_id  anime_id  rating\n",
       "0               0       430       9\n",
       "1               0      1004       5\n",
       "2               0      3010       7\n",
       "3               0       570       7\n",
       "4               0      2762       9\n",
       "...           ...       ...     ...\n",
       "57596146   353404       502       8\n",
       "57596147   353404       987       4\n",
       "57596148   353404       225       8\n",
       "57596149   353404       243       7\n",
       "57596150   353404       896       7\n",
       "\n",
       "[57596151 rows x 3 columns]"
      ]
     },
     "execution_count": 26,
     "metadata": {},
     "output_type": "execute_result"
    }
   ],
   "source": [
    "ratings_new2.reset_index(drop=True, inplace=True)\n",
    "ratings_new2"
   ]
  },
  {
   "cell_type": "code",
   "execution_count": 27,
   "metadata": {},
   "outputs": [
    {
     "data": {
      "text/plain": [
       "range(0, 57596151)"
      ]
     },
     "execution_count": 27,
     "metadata": {},
     "output_type": "execute_result"
    }
   ],
   "source": [
    "range(len(ratings_new2))"
   ]
  },
  {
   "cell_type": "code",
   "execution_count": null,
   "metadata": {},
   "outputs": [],
   "source": [
    "for a in range(0, 10000000):\n",
    "    if ratings_new2[\"anime_id\"][a] not in list(anime[\"MAL_ID\"][:]):\n",
    "        ratings_new2.drop(index=a)"
   ]
  },
  {
   "cell_type": "code",
   "execution_count": null,
   "metadata": {},
   "outputs": [],
   "source": [
    "ratings_new2.to_csv(\"ratings_new2.csv\", index=False, header=False)"
   ]
  },
  {
   "cell_type": "code",
   "execution_count": null,
   "metadata": {},
   "outputs": [],
   "source": [
    "for a in range(10000000, 20000000):\n",
    "    if ratings_new2[\"anime_id\"][a] not in list(anime[\"MAL_ID\"][:]):\n",
    "        ratings_new2.drop(index=a)"
   ]
  },
  {
   "cell_type": "code",
   "execution_count": null,
   "metadata": {},
   "outputs": [],
   "source": [
    "ratings_new2.to_csv(\"ratings_new2.csv\", index=False, header=False)"
   ]
  },
  {
   "cell_type": "code",
   "execution_count": null,
   "metadata": {},
   "outputs": [],
   "source": [
    "for a in range(20000000, 30000000):\n",
    "    if ratings_new2[\"anime_id\"][a] not in list(anime[\"MAL_ID\"][:]):\n",
    "        ratings_new2.drop(index=a)"
   ]
  },
  {
   "cell_type": "code",
   "execution_count": null,
   "metadata": {},
   "outputs": [],
   "source": [
    "ratings_new2.to_csv(\"ratings_new2.csv\", index=False, header=False)"
   ]
  },
  {
   "cell_type": "code",
   "execution_count": null,
   "metadata": {},
   "outputs": [],
   "source": [
    "for a in range(30000000, 40000000):\n",
    "    if ratings_new2[\"anime_id\"][a] not in list(anime[\"MAL_ID\"][:]):\n",
    "        ratings_new2.drop(index=a)"
   ]
  },
  {
   "cell_type": "code",
   "execution_count": null,
   "metadata": {},
   "outputs": [],
   "source": [
    "ratings_new2.to_csv(\"ratings_new2.csv\", index=False, header=False)"
   ]
  },
  {
   "cell_type": "code",
   "execution_count": null,
   "metadata": {},
   "outputs": [],
   "source": [
    "for a in range(40000000, 57596151):\n",
    "    if ratings_new2[\"anime_id\"][a] not in list(anime[\"MAL_ID\"][:]):\n",
    "        ratings_new2.drop(index=a)"
   ]
  },
  {
   "cell_type": "code",
   "execution_count": null,
   "metadata": {},
   "outputs": [],
   "source": [
    "len(ratings_new2)"
   ]
  },
  {
   "cell_type": "code",
   "execution_count": null,
   "metadata": {},
   "outputs": [],
   "source": [
    "ratings_new2.to_csv(\"ratings_new2.csv\", index=False, header=False)"
   ]
  },
  {
   "cell_type": "code",
   "execution_count": 31,
   "metadata": {},
   "outputs": [],
   "source": [
    "#reader = Reader(line_format= 'user item rating', sep=',', rating_scale=(0, 10))\n",
    "#data = Dataset.load_from_file('ratings_new2.csv', reader=reader)"
   ]
  },
  {
   "cell_type": "code",
   "execution_count": null,
   "metadata": {},
   "outputs": [],
   "source": [
    "for a in range(len(ratings_new2)):\n",
    "    if ratings_new2[\"anime_id\"][a] not in list(anime[\"MAL_ID\"][:]):\n",
    "        ratings_new2.drop(index=a)"
   ]
  },
  {
   "cell_type": "markdown",
   "metadata": {},
   "source": [
    "# DATA VIZ"
   ]
  },
  {
   "cell_type": "code",
   "execution_count": 17,
   "metadata": {},
   "outputs": [
    {
     "data": {
      "text/plain": [
       "'temp-plot.html'"
      ]
     },
     "execution_count": 17,
     "metadata": {},
     "output_type": "execute_result"
    }
   ],
   "source": [
    "from plotly.offline import init_notebook_mode, plot, iplot\n",
    "import plotly.graph_objs as go\n",
    "\n",
    "# py파일로 실행할 경우 노트북에서 실행시키기 위한 함수.\n",
    "# init_notebook_mode(connected=True)\n",
    "\n",
    "\n",
    "\n",
    "\n",
    "# 데이터프레임에서 한 컬럼만 뽑아낸 시리즈를 종류별로 카운트하고, 인덱스에 따라 내림차순 정렬\n",
    "data = ratings['rating'].value_counts().sort_index(ascending=False)\n",
    "\n",
    "\n",
    "# x에는 index로 평점 1~5를 나타내고, y는 평점 당 카운트 값이다.\n",
    "trace = go.Bar(x = data.index,\n",
    "               text = ['{:.1f} %'.format(val) for val in (data.values / ratings.shape[0] * 100)],\n",
    "               textposition = 'auto',\n",
    "               textfont = dict(color = '#000000'),\n",
    "               y = data.values,\n",
    "               )\n",
    "               \n",
    "               \n",
    "# 레이아웃 생성하기.\n",
    "layout = dict(title = 'Distribution Of {} anime-ratings'.format(ratings.shape[0]),\n",
    "              xaxis = dict(title = 'Rating'),\n",
    "              yaxis = dict(title = 'Count'))\n",
    "# 그래프 생성하기\n",
    "fig = go.Figure(data=[trace], layout=layout)\n",
    "plot(fig) "
   ]
  },
  {
   "cell_type": "code",
   "execution_count": 18,
   "metadata": {},
   "outputs": [
    {
     "data": {
      "text/plain": [
       "'temp-plot.html'"
      ]
     },
     "execution_count": 18,
     "metadata": {},
     "output_type": "execute_result"
    }
   ],
   "source": [
    "# 영화 한 편당 평점 개수. groupby 함수로 카운팅한다.\n",
    "data = ratings.groupby('anime_id')['rating'].count().clip(upper=100)\n",
    "\n",
    "# trace 생성하기.\n",
    "trace = go.Histogram(x = data.values,\n",
    "                     name = 'Ratings',\n",
    "                     xbins = dict(start = 0,\n",
    "                                  end = 50,\n",
    "                                  size = 2))\n",
    "# 레이아웃 생성하기\n",
    "layout = go.Layout(title = 'Distribution Of Number of Ratings Per anime (Clipped at 100)',\n",
    "                   xaxis = dict(title = 'Number of Ratings Per anime'),\n",
    "                   yaxis = dict(title = 'Count'),\n",
    "                   bargap = 0.2)\n",
    "\n",
    "# 그래프 생성하기.\n",
    "fig = go.Figure(data=[trace], layout=layout)\n",
    "plot(fig)"
   ]
  },
  {
   "cell_type": "code",
   "execution_count": 19,
   "metadata": {},
   "outputs": [
    {
     "data": {
      "text/html": [
       "<div>\n",
       "<style scoped>\n",
       "    .dataframe tbody tr th:only-of-type {\n",
       "        vertical-align: middle;\n",
       "    }\n",
       "\n",
       "    .dataframe tbody tr th {\n",
       "        vertical-align: top;\n",
       "    }\n",
       "\n",
       "    .dataframe thead th {\n",
       "        text-align: right;\n",
       "    }\n",
       "</style>\n",
       "<table border=\"1\" class=\"dataframe\">\n",
       "  <thead>\n",
       "    <tr style=\"text-align: right;\">\n",
       "      <th></th>\n",
       "      <th>anime_id</th>\n",
       "      <th>rating</th>\n",
       "    </tr>\n",
       "  </thead>\n",
       "  <tbody>\n",
       "    <tr>\n",
       "      <th>1390</th>\n",
       "      <td>1535</td>\n",
       "      <td>182375</td>\n",
       "    </tr>\n",
       "    <tr>\n",
       "      <th>7437</th>\n",
       "      <td>16498</td>\n",
       "      <td>169794</td>\n",
       "    </tr>\n",
       "    <tr>\n",
       "      <th>6603</th>\n",
       "      <td>11757</td>\n",
       "      <td>161192</td>\n",
       "    </tr>\n",
       "    <tr>\n",
       "      <th>4629</th>\n",
       "      <td>6547</td>\n",
       "      <td>141127</td>\n",
       "    </tr>\n",
       "    <tr>\n",
       "      <th>10420</th>\n",
       "      <td>30276</td>\n",
       "      <td>138924</td>\n",
       "    </tr>\n",
       "    <tr>\n",
       "      <th>1428</th>\n",
       "      <td>1575</td>\n",
       "      <td>137291</td>\n",
       "    </tr>\n",
       "    <tr>\n",
       "      <th>3559</th>\n",
       "      <td>4224</td>\n",
       "      <td>135524</td>\n",
       "    </tr>\n",
       "    <tr>\n",
       "      <th>3965</th>\n",
       "      <td>5114</td>\n",
       "      <td>134197</td>\n",
       "    </tr>\n",
       "    <tr>\n",
       "      <th>8135</th>\n",
       "      <td>19815</td>\n",
       "      <td>129009</td>\n",
       "    </tr>\n",
       "    <tr>\n",
       "      <th>8631</th>\n",
       "      <td>22319</td>\n",
       "      <td>128822</td>\n",
       "    </tr>\n",
       "  </tbody>\n",
       "</table>\n",
       "</div>"
      ],
      "text/plain": [
       "       anime_id  rating\n",
       "1390       1535  182375\n",
       "7437      16498  169794\n",
       "6603      11757  161192\n",
       "4629       6547  141127\n",
       "10420     30276  138924\n",
       "1428       1575  137291\n",
       "3559       4224  135524\n",
       "3965       5114  134197\n",
       "8135      19815  129009\n",
       "8631      22319  128822"
      ]
     },
     "execution_count": 19,
     "metadata": {},
     "output_type": "execute_result"
    }
   ],
   "source": [
    "ratings.groupby('anime_id')['rating'].count().reset_index().sort_values('rating', ascending=False)[:10]"
   ]
  },
  {
   "cell_type": "code",
   "execution_count": 20,
   "metadata": {},
   "outputs": [
    {
     "data": {
      "text/plain": [
       "'temp-plot.html'"
      ]
     },
     "execution_count": 20,
     "metadata": {},
     "output_type": "execute_result"
    }
   ],
   "source": [
    "# 사용자별 평점 개수\n",
    "data = ratings.groupby('user_id')['rating'].count().clip(upper=50)\n",
    "\n",
    "# trace 생성하기.\n",
    "trace = go.Histogram(x = data.values,\n",
    "                     name = 'Ratings',\n",
    "                     xbins = dict(start = 0,\n",
    "                                  end = 50,\n",
    "                                  size = 2))\n",
    "# 레이아웃 생성하기.\n",
    "layout = go.Layout(title = 'Distribution Of Number of Ratings Per User (Clipped at 50)',\n",
    "                   xaxis = dict(title = 'Ratings Per User'),\n",
    "                   yaxis = dict(title = 'Count'),\n",
    "                   bargap = 0.2)\n",
    "\n",
    "# Create plot\n",
    "fig = go.Figure(data=[trace], layout=layout)\n",
    "plot(fig)"
   ]
  },
  {
   "cell_type": "markdown",
   "metadata": {},
   "source": [
    "# Cross Validate"
   ]
  },
  {
   "cell_type": "code",
   "execution_count": 27,
   "metadata": {},
   "outputs": [
    {
     "name": "stdout",
     "output_type": "stream",
     "text": [
      "Evaluating RMSE, MAE of algorithm SVD on 5 split(s).\n",
      "\n",
      "                  Fold 1  Fold 2  Fold 3  Fold 4  Fold 5  Mean    Std     \n",
      "RMSE (testset)    1.1066  1.1063  1.1071  1.1056  1.1064  1.1064  0.0005  \n",
      "MAE (testset)     0.8171  0.8172  0.8171  0.8165  0.8168  0.8169  0.0003  \n",
      "Fit time          2957.50 3047.90 3065.54 3047.11 3035.56 3030.72 37.84   \n",
      "Test time         351.81  273.59  360.79  226.93  305.69  303.76  49.76   \n"
     ]
    },
    {
     "data": {
      "text/plain": [
       "{'test_rmse': array([1.10664625, 1.10631312, 1.10709508, 1.10561986, 1.10640092]),\n",
       " 'test_mae': array([0.81713544, 0.81721804, 0.81707907, 0.81647816, 0.81682769]),\n",
       " 'fit_time': (2957.503125667572,\n",
       "  3047.903012752533,\n",
       "  3065.5402081012726,\n",
       "  3047.1061832904816,\n",
       "  3035.563323736191),\n",
       " 'test_time': (351.8133428096771,\n",
       "  273.5874183177948,\n",
       "  360.7888648509979,\n",
       "  226.92814803123474,\n",
       "  305.6927819252014)}"
      ]
     },
     "execution_count": 27,
     "metadata": {},
     "output_type": "execute_result"
    }
   ],
   "source": [
    "algo = SVD(random_state=42)\n",
    "cross_validate(algo, data, measures=['RMSE', 'MAE'], cv=5, verbose=True)"
   ]
  },
  {
   "cell_type": "code",
   "execution_count": null,
   "metadata": {},
   "outputs": [],
   "source": [
    "benchmark = []\n",
    "# 모든 알고리즘을 literate화 시켜서 반복문을 실행시킨다.\n",
    "for algorithm in [SVD(), SVDpp(), SlopeOne(), NMF(), KNNBaseline(), KNNBasic(), KNNWithMeans(), KNNWithZScore(), BaselineOnly(), CoClustering()]:\n",
    "    \n",
    "    # 교차검증을 수행하는 단계.\n",
    "    results = cross_validate(algorithm, data, measures=['RMSE', 'MAE'], cv=5, verbose=True)\n",
    "    \n",
    "    # 결과 저장과 알고리즘 이름 추가.\n",
    "    tmp = pd.DataFrame.from_dict(results).mean(axis=0)\n",
    "    tmp = tmp.append(pd.Series([str(algorithm).split(' ')[0].split('.')[-1]], index=['Algorithm']))\n",
    "    benchmark.append(tmp)\n",
    "    \n",
    "pd.DataFrame(benchmark).set_index('Algorithm').sort_values('test_rmse')"
   ]
  },
  {
   "cell_type": "markdown",
   "metadata": {},
   "source": [
    "# Grid Search\n",
    "* **algo_class**: 알고리즘 이름\n",
    "* **param_grid**: 파라미터 조합을 딕셔너리 형태로 표시\n",
    "* **measures**: 비교할 측정지표 (rmse, mae)\n",
    "* **cv**: cross-validation sample 개수\n",
    "* **refit**: True이면 best parameter를 전체 데이터에 적용한 측정지표(measures의 첫번째 지표)를 계산\n",
    "* **return_train_measures**: True이면 train set에 대한 측정지표를 계산\n",
    "* **n_jobs**: parallel training을 진행할 maximum job의 수(-1: 모든 CPU 사용, 1: parallel이 없음.)\n",
    "* **pre_dispatch**: 메모리 full을 막기 위해 미리 dispatch할 parallel job의 수를 조정(default = 2 * n_jobs)\n",
    "* **joblob_verbose**: message를 표시하는 정도"
   ]
  },
  {
   "cell_type": "markdown",
   "metadata": {},
   "source": [
    "## KNN 기반 알고리즘(아이템 기반 최근점 이웃 CF)의 파라미터\n",
    "* **k**: 이웃의 크기\n",
    "* **name**: 사용할 유사도의 종류를 나타내는 문자열. 디폴트는 'MSD'.\n",
    "    * 평균제곱차이 유사도 (Mean Squared Difference Similarity)\n",
    "    * 코사인 유사도 (Cosine Similarity)\n",
    "    * 피어슨 유사도 (Pearson Similarity)\n",
    "    * 피어슨-베이스라인 유사도 (Pearson-Baseline Similarity)\n",
    "* **user_based**: True면 사용자 기반, False면 상품 기반."
   ]
  },
  {
   "cell_type": "markdown",
   "metadata": {},
   "source": [
    "## SVD 기반 알고리즘(행렬 분해를 이용한 잠재요인 CF)의 파라미터\n",
    "* **n_epochs**: SGD의 반복 횟수 지정\n",
    "* **n_factors**: SVD의 잠재 요인 K의 크기 지정\n",
    "* **lr_all**: 학습률\n",
    "* **reg_all**: 규제 텀 계수"
   ]
  },
  {
   "cell_type": "code",
   "execution_count": null,
   "metadata": {},
   "outputs": [],
   "source": [
    "###### 최적화할 파라미터들을 딕셔너리 형태로 지정.\n",
    "param_grid = {'n_epochs': [20, 40, 60], 'n_factors': [50, 100, 200] }\n",
    " \n",
    "# CV를 3개 폴드 세트로 지정, 성능 평가는 rmse, mse 로 수행 하도록 GridSearchCV 구성\n",
    "gs = GridSearchCV(SVD, param_grid, measures=['rmse', 'mae'], cv=5, n_jobs=-1)\n",
    "gs.fit(data)\n",
    " \n",
    "# 최고 RMSE Evaluation 점수와 그때의 하이퍼 파라미터\n",
    "print(gs.best_score['rmse'])\n",
    "print(gs.best_params['rmse'])"
   ]
  },
  {
   "cell_type": "markdown",
   "metadata": {},
   "source": [
    "# RecSys 구현"
   ]
  },
  {
   "cell_type": "code",
   "execution_count": null,
   "metadata": {},
   "outputs": [],
   "source": [
    "trainset = data.build_full_trainset() # 전체 데이터를 학습데이터로 생성함.\n",
    "\n",
    "algo = SVD(n_epochs=20, n_factors=50, random_state=0)\n",
    "algo.fit(trainset)\n",
    "\n",
    "anime = pd.read_csv('anime_full.csv')\n",
    " \n",
    "# userId=9 의 movieId 데이터 추출하여 movieId=42 데이터가 있는지 확인.\n",
    "animeids = ratings[ratings['user_id']==9]['anime_id']\n",
    "if animeIds[animeids==42].count() == 0:\n",
    "    print('사용자 아이디 9는 애니메이션 아이디 42의 평점 없음')\n",
    " \n",
    "print(anime[anime['MAL_ID']==42])"
   ]
  },
  {
   "cell_type": "code",
   "execution_count": null,
   "metadata": {},
   "outputs": [],
   "source": [
    "# 개별 사용자의 아이템에 대한 추천 평점 예측\n",
    "uid = str(9)\n",
    "iid = str(42)\n",
    " \n",
    "pred = algo.predict(uid, iid, verbose=True) \n",
    "pred                                        \n",
    "# uid: 사용자 아이디, iid: 아이템 아이디, r_ui: 실제 평점, est: 예측 평점               "
   ]
  },
  {
   "cell_type": "code",
   "execution_count": null,
   "metadata": {},
   "outputs": [],
   "source": [
    "def get_unseen_animelist(user_id):\n",
    "    \n",
    "    #입력값으로 들어온 userId에 해당하는 사용자가 평점을 매긴 모든 애니메이션을 리스트로 생성\n",
    "    seen_animes = ratings[ratings['user_id']== user_id]['anime_id'].tolist()\n",
    "     \n",
    "    # 모든 애니메이션들의 MAL_ID를 리스트로 생성.\n",
    "    total_animes = anime['MAL_ID'].tolist()\n",
    "     \n",
    "    # 모든 애니메이션들의 MAL_ID 중 이미 평점을 매긴 애니메이션의 MAL_ID를 제외하여 리스트로 생성\n",
    "    unseen_animes= [anime for anime in total_animes if anime not in seen_animes]\n",
    "    print('평점 매긴 애니메이션 수:',len(seen_animes), '추천 대상 애니메이션 수:',len(unseen_animes), \\\n",
    "          '전체 애니메이션 수:',len(total_animes))\n",
    "     \n",
    "    return unseen_animes\n",
    " \n",
    "unseen_animes = get_unseen_animelist(9)"
   ]
  },
  {
   "cell_type": "code",
   "execution_count": null,
   "metadata": {},
   "outputs": [],
   "source": [
    "def recomm_anime_by_surprise(algo, user_id, unseen_animes, top_n=10):\n",
    "    # 알고리즘 객체의 predict() 메서드를 평점이 없는 애니메이션에 반복 수행한 후 결과를 list 객체로 저장\n",
    "    predictions = [algo.predict(str(user_id), str(anime_id) for anime_id in unseen_animes]\n",
    "     \n",
    "    # predictions list 객체는 surprise의 Predictions 객체를 원소로 가지고 있음.\n",
    "    # [Prediction(uid='9', iid='1', est=3.69), Prediction(uid='9', iid='2', est=2.98),,,,]\n",
    "    # 이를 est 값으로 정렬하기 위해서 아래의 sortkey_est 함수를 정의함.\n",
    "    # sortkey_est 함수는 list 객체의 sort() 함수의 키 값으로 사용되어 정렬 수행.\n",
    "    def sortkey_est(pred):\n",
    "        return pred.est\n",
    "     \n",
    "    # sortkey_est( ) 반환값의 내림 차순으로 정렬 수행하고 top_n개의 최상위 값 추출.\n",
    "    predictions.sort(key=sortkey_est, reverse=True)\n",
    "    top_predictions= predictions[:top_n]\n",
    "     \n",
    "    # top_n으로 추출된 애니메이션의 정보 추출. 애니메이션 아이디, 추천 예상 평점, 제목 추출\n",
    "    top_anime_ids = [ int(pred.iid) for pred in top_predictions]\n",
    "    top_anime_rating = [pred.est for pred in top_predictions]\n",
    "    top_anime_names = anime[anime.MAL_ID.isin(top_anime_ids)]['title']\n",
    "    top_anime_preds = [ (id, title, rating) for id, title, rating in zip(top_anime_ids, top_anime_names, top_anime_rating)]\n",
    "     \n",
    "    return top_anime_preds\n",
    " \n",
    "unseen_animes = get_unseen_animelist(9)\n",
    "top_anime_preds = recomm_anime_by_surprise(algo, 9, unseen_animes, top_n=10)\n",
    "print('##### Top-10 추천 애니메이션 리스트 #####')\n",
    " \n",
    "for top_anime in top_anime_preds:\n",
    "    print(top_anime[1], \":\", top_anime[2])"
   ]
  }
 ],
 "metadata": {
  "kernelspec": {
   "display_name": "recsys",
   "language": "python",
   "name": "recsys"
  },
  "language_info": {
   "codemirror_mode": {
    "name": "ipython",
    "version": 3
   },
   "file_extension": ".py",
   "mimetype": "text/x-python",
   "name": "python",
   "nbconvert_exporter": "python",
   "pygments_lexer": "ipython3",
   "version": "3.6.13"
  }
 },
 "nbformat": 4,
 "nbformat_minor": 2
}
